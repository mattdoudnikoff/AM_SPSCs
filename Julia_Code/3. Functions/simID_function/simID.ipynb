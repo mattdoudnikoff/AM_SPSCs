{
 "cells": [
  {
   "cell_type": "code",
   "execution_count": 66,
   "id": "foster-promise",
   "metadata": {},
   "outputs": [
    {
     "data": {
      "text/plain": [
       "simID (generic function with 1 method)"
      ]
     },
     "execution_count": 66,
     "metadata": {},
     "output_type": "execute_result"
    }
   ],
   "source": [
    "using Distributions\n",
    "function simID(n, obs, adi, cv2, level)\n",
    "    # n: number of demand streams to create\n",
    "    # obs: number of time periods to simulate\n",
    "    # adi: average demand interval\n",
    "    # cv2: coefficient of variance squared\n",
    "    # level: average of nonzero demand periods\n",
    "\n",
    "    #d: 'n' x 'obs' matrix with the specified demand streams\n",
    "\n",
    "    m = level - 1\n",
    "    if (cv2 != 0)\n",
    "        p = (m / ( cv2 * ( (m+1)^2) ) ); # calculates the p for negative binomial function\n",
    "        r = m * p / (1 - p); # calculates the r for the negative binomial funcion\n",
    "        if r<= 0\n",
    "            error(\"NaNs Produced: Choose different cv2 and level combo\")\n",
    "        end\n",
    "        d = rand(Binomial(1, 1/adi), n, obs) .* (rand(NegativeBinomial(r, p), n, obs) .+ 1)\n",
    "        else \n",
    "        d = rand(Binomial(1, 1/adi), n, obs) .* (ones(5,6) * 11)\n",
    "    end\n",
    "    return d\n",
    "end"
   ]
  }
 ],
 "metadata": {
  "kernelspec": {
   "display_name": "Julia 1.5.3",
   "language": "julia",
   "name": "julia-1.5"
  },
  "language_info": {
   "file_extension": ".jl",
   "mimetype": "application/julia",
   "name": "julia",
   "version": "1.5.3"
  }
 },
 "nbformat": 4,
 "nbformat_minor": 5
}
