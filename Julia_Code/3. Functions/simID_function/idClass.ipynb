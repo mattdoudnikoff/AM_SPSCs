{
 "cells": [
  {
   "cell_type": "code",
   "execution_count": 52,
   "id": "expressed-horror",
   "metadata": {},
   "outputs": [
    {
     "data": {
      "text/plain": [
       "idClass (generic function with 1 method)"
      ]
     },
     "execution_count": 52,
     "metadata": {},
     "output_type": "execute_result"
    }
   ],
   "source": [
    "using Statistics\n",
    "function idClass(data)\n",
    "    #data: time series demand data. Rows: time series. Columns: time periods\n",
    "    # p: average inter-demand interval (per time series)\n",
    "    # cv2: squared coeficient of variance (per time series)\n",
    "    # lev: mean level of demand (per time series)\n",
    "    # ***_avg: average value of all time series combined\n",
    "    N = size(data,1);\n",
    "    \n",
    "    #initiate variables\n",
    "    p = zeros(N)\n",
    "    cv2 = zeros(N)\n",
    "    lev = zeros(N)\n",
    "    for n in 1:N\n",
    "        ts = data[n,:]; # extracts a single time series\n",
    "        nzd = findall(ts .!= 0); #idx of non-zero demand\n",
    "        k = length(nzd); # number of non-zero demand periods\n",
    "        z = ts[nzd]; # non-zero demand values\n",
    "        x = hcat(nzd[1], (nzd[2:k] - nzd[1:(k-1)])'); # inter-demand interval\n",
    "        p[n] = mean(x); # adi\n",
    "        cv2[n] = (std(z)/mean(z))^2; # cv2\n",
    "        lev[n] = mean(z); # lev\n",
    "    end\n",
    "    # Consolidate all time series\n",
    "    p_avg = mean(p);\n",
    "    cv2_avg = mean(cv2);\n",
    "    lev_avg = mean(lev);\n",
    "\n",
    "    # Classify forecasting method\n",
    "    use_SBA = ((p .> 1.32) .| (cv2 .> 0.49)); # use SBA for these scenarios\n",
    "    use_Croston = (use_SBA .== 0); # use croston for everything else (bottom left corner)\n",
    "\n",
    "    # Find idx of demand streams that go with each forecast type\n",
    "    idx_SBA = findall(use_SBA);\n",
    "    idx_Croston = findall(use_Croston);\n",
    "    \n",
    "    return [p, cv2, lev, p_avg, cv2_avg, lev_avg, idx_SBA, idx_Croston]\n",
    "end"
   ]
  }
 ],
 "metadata": {
  "kernelspec": {
   "display_name": "Julia 1.5.3",
   "language": "julia",
   "name": "julia-1.5"
  },
  "language_info": {
   "file_extension": ".jl",
   "mimetype": "application/julia",
   "name": "julia",
   "version": "1.5.3"
  }
 },
 "nbformat": 4,
 "nbformat_minor": 5
}
