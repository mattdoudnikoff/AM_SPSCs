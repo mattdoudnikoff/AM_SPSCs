{
 "cells": [
  {
   "cell_type": "code",
   "execution_count": null,
   "id": "021e6628-f736-48fb-9b3b-594a8214f5dd",
   "metadata": {},
   "outputs": [],
   "source": [
    "############ This file was used to create Generate_Forecast.jl. There have also been changes to that file so this is not a good starting place. "
   ]
  },
  {
   "cell_type": "code",
   "execution_count": 1,
   "id": "expressed-lindsay",
   "metadata": {
    "tags": []
   },
   "outputs": [
    {
     "data": {
      "text/plain": [
       "1000"
      ]
     },
     "execution_count": 1,
     "metadata": {},
     "output_type": "execute_result"
    }
   ],
   "source": [
    "#### Straight from Kyle's Code\n",
    "## Step by step\n",
    "#+++Define T, G, ncust, obs, nreal++++\n",
    "# Below is what is done in the file\n",
    "# Generate historical demand for all customers.\n",
    "# Classify what the historical demand is on the quad chart\n",
    "# Use appropriate forecasting method to generate forecast for time horiz T\n",
    "# Generate demand realizations off of parameters used to create forecast\n",
    "# (used in model performance evlauation)\n",
    "# Determine little s in (s,S) policy using markov bootstrap technique.\n",
    "# Feed forecast to MILP for optimal policy determination\n",
    "\n",
    "\n",
    "#Test Conditions\n",
    "avg_dem = 3\n",
    "adi = 1.16\n",
    "cv2 = 0.24\n",
    "lev = avg_dem * adi\n",
    "T = 60\n",
    "G = 3\n",
    "ncust = 2\n",
    "nsup = 2\n",
    "obs = 180\n",
    "nreal = 50 # # realizations to generate\n",
    "LT = 7 #based on LT of resupply from TM to supplier\n",
    "N=1000 # Number of replications to generate LTD based on"
   ]
  },
  {
   "cell_type": "code",
   "execution_count": 2,
   "id": "charming-adult",
   "metadata": {},
   "outputs": [
    {
     "data": {
      "text/plain": [
       "MarkovBootstrap"
      ]
     },
     "execution_count": 2,
     "metadata": {},
     "output_type": "execute_result"
    }
   ],
   "source": [
    "##needed referred files\n",
    "using Plots\n",
    "include(\"/Users/Matthew/Documents/Grad School/Thesis Work/Julia_Code/3. Functions/simID_function/simID.jl\")\n",
    "include(\"/Users/Matthew/Documents/Grad School/Thesis Work/Julia_Code/3. Functions/simID_function/idClass.jl\")\n",
    "include(\"/Users/Matthew/Documents/Grad School/Thesis Work/Julia_Code/3. Functions/Forecasting_Functions/CrostonSBA.jl\")\n",
    "include(\"/Users/Matthew/Documents/Grad School/Thesis Work/Julia_Code/3. Functions/Forecasting_Functions/Croston.jl\")\n",
    "include(\"/Users/Matthew/Documents/Grad School/Thesis Work/Julia_Code/3. Functions/Forecasting_Functions/MarkovBootstrap.jl\")"
   ]
  },
  {
   "cell_type": "code",
   "execution_count": 3,
   "id": "forty-webcam",
   "metadata": {},
   "outputs": [],
   "source": [
    "#Packages needed\n",
    "using Optim\n",
    "using Plots\n",
    "using StatsBase\n",
    "using Distributions\n",
    "using Statistics\n",
    "using Random"
   ]
  },
  {
   "cell_type": "code",
   "execution_count": 4,
   "id": "funny-worker",
   "metadata": {},
   "outputs": [
    {
     "data": {
      "text/plain": [
       "gen_historical"
      ]
     },
     "execution_count": 4,
     "metadata": {},
     "output_type": "execute_result"
    }
   ],
   "source": [
    "####### Gen_historical but with optional number of customers and productucts\n",
    "\"\"\"\n",
    "    Generate historical demand per product for each customer. \n",
    "Inputs:\n",
    "    adi: \n",
    "    CV2: \n",
    "    lev: \n",
    "    G: Number of products\n",
    "    ncust: Number of customers\n",
    "    obs: Number of time periods of historical data to generate\n",
    "Outputs: \n",
    "    (ncust x obs x G) array of historical demand\n",
    "\"\"\"\n",
    "function gen_historical(adi, cv2, lev, G, ncust, obs=180)\n",
    "    if G < 1 \n",
    "        error(\"ERROR: G is less than 1, pick value of 1 or more\")\n",
    "    end\n",
    "    if ncust < 0\n",
    "        error(\"ERROR: ncust is less than 1, pick value of 1 or more\")\n",
    "    end\n",
    "    \n",
    "    historical = Array{Int64}(undef,ncust,obs,G)\n",
    "    \n",
    "    for g in 1:G #iterate for number of products\n",
    "        for c in 1:ncust #iterate for number of customers\n",
    "            historical[c,:,g] = simID(1,obs,adi,cv2,lev)\n",
    "        end\n",
    "    end\n",
    "    return historical\n",
    "end"
   ]
  },
  {
   "cell_type": "code",
   "execution_count": 5,
   "id": "agreed-reviewer",
   "metadata": {},
   "outputs": [
    {
     "data": {
      "text/plain": [
       "gen_dem_realization"
      ]
     },
     "execution_count": 5,
     "metadata": {},
     "output_type": "execute_result"
    }
   ],
   "source": [
    "\"\"\"\n",
    "Generate demand realizations based off original input parameters (to be used in EVAL)\n",
    "Inputs:\n",
    "    nreal: number of realizations: 1st dimension\n",
    "    adi:\n",
    "    cv2:\n",
    "    lev:\n",
    "    T: Time horizon to be evaluated: dimension\n",
    "    G: Number of products: 4th dimension\n",
    "    ncust: Number of customers: 3rd dimension\n",
    "Outputs:\n",
    "\"\"\" ###MIGHT NEED TO EDIT THIS SLIGHTLY\n",
    "function gen_dem_realization(nreal, adi, cv2, lev, T, G, ncust)\n",
    "    obs = T\n",
    "    cust_dem = Array{Int64}(undef, nreal, obs, ncust, G) \n",
    "    for g in 1:G\n",
    "        for c in 1:ncust\n",
    "            cust_dem[:,:,c,g] = simID(nreal,obs,adi,cv2,lev)\n",
    "        end\n",
    "    end\n",
    "    return cust_dem\n",
    "end"
   ]
  },
  {
   "cell_type": "code",
   "execution_count": 6,
   "id": "responsible-locking",
   "metadata": {},
   "outputs": [
    {
     "data": {
      "text/plain": [
       "forecast_dem"
      ]
     },
     "execution_count": 6,
     "metadata": {},
     "output_type": "execute_result"
    }
   ],
   "source": [
    "\"\"\"\n",
    "Function that first takes historical demand then classifies it and then gives a forcast\n",
    "Inputs:\n",
    "    hist_dem: historical demand that should already be generated\n",
    "    G: number of Customers\n",
    "    T: Time horizon interested in predicting\n",
    "Outputs:\n",
    "    A forecast of future demand\n",
    "\"\"\"\n",
    "function forecast_dem(hist_dem,G,T)\n",
    "    #loop through each product type of all customers\n",
    "    forecast = Array{Int64}(undef, size(hist_dem)[1],T,G)    ######might need to change this later as model changes\n",
    "    for g in 1:G\n",
    "        data = hist_dem[:,:,g]\n",
    "        ## Classify demand and determine forecasting method\n",
    "        # Outputs idx of demand streams that need to be forecasted by whatever method\n",
    "        idx_SBA = idClass(data)[7]\n",
    "        idx_Croston = idClass(data)[8]\n",
    "        @show(idx_Croston)\n",
    "        @show(idx_SBA)\n",
    "        \n",
    "        ## Forecast SBA and Croston\n",
    "        # define function handle used to determine alpha value that minimizes mse\n",
    "        mseh(x,y) = mean(filter(!isnan, (x .- y).^2)) # mse fh. x: historical data, y: forecasted value output.\n",
    "        # set starting alpha value\n",
    "        a = [0.1]\n",
    "        F =  Array{Float64}(undef, (length(idx_SBA) + length(idx_Croston)))\n",
    "        aoptSBA =Array{Float64}(undef, length(idx_SBA))\n",
    "        aoptCrost = Array{Float64}(undef, length(idx_Croston))\n",
    "        \n",
    "        \n",
    "        if !isempty(idx_SBA) #checker to ensure idx_SBA has values in it\n",
    "            for i = idx_SBA # idx of customer demand for product G that requires SBA forecast\n",
    "                if i != 0 # only do this for nonzero values\n",
    "                    # Objective is to minimize the mse by optimizing alpha value\n",
    "                    temp_aoptSBA = Optim.optimize(alpha -> mseh(data[i,:], CrostonSBA(data[i,:], T, alpha)[2]), a, Newton()).minimizer # minimize mse by changing alpha value\n",
    "                    aoptSBA[i] = temp_aoptSBA # save optimal alpha value for checking\n",
    "                    F[i,1] = CrostonSBA(data[i,:],T,aoptSBA[i])[1] # Run function using the optimized alpha value\n",
    "                end\n",
    "            i # checking\n",
    "            end\n",
    "        end\n",
    "        \n",
    "        if !isempty(idx_Croston) #checker to ensure idx_Croston has values in it\n",
    "            for i = idx_Croston # idx of customer demand for product G that requires SBA forecast\n",
    "                if i != 0 \n",
    "                    #min mse by changing alpha value\n",
    "                    temp_aoptCrost = Optim.optimize(alpha -> mseh(data[i,:], Croston(data[i,:],T,alpha)[2]), a, Newton()).minimizer\n",
    "                    aoptCrost[i] = temp_aoptCrost[1] # save optimal alpha value for checking\n",
    "                    F[i,1] = Croston(data[i,:],T,aoptCrost[i])[1]\n",
    "                end\n",
    "                #i # checking\n",
    "            end\n",
    "        end\n",
    "        #Forecast for time horizon\n",
    "        forecast[:,:,g] .= ceil.(F)\n",
    "    end\n",
    "    return(forecast)\n",
    "end"
   ]
  },
  {
   "cell_type": "code",
   "execution_count": 7,
   "id": "smart-procurement",
   "metadata": {},
   "outputs": [
    {
     "data": {
      "text/plain": [
       "little_s_inventory"
      ]
     },
     "execution_count": 7,
     "metadata": {},
     "output_type": "execute_result"
    }
   ],
   "source": [
    "###### Determining the min policy code\n",
    "#Markov Bootstrap code for little s inventory policy\n",
    "\"\"\"\n",
    "Inputs:\n",
    "    nsup: number of suppliers\n",
    "    ncust: number of customers\n",
    "    LT: based on LT of resupply from TM to the supplier\n",
    "    rep: Number of replications to generate LTD based on\n",
    "    hist_dem: historical demand calculated earlier\n",
    "Outputs:\n",
    "    LTD - Lead time duration for each product\n",
    "    Q - Markov bootstrap for each product 75th percentile  ###### better description\n",
    "    pAll - little s for each product (nsup x G matrix)\n",
    "\"\"\"\n",
    "function little_s_inventory(nsup, ncust, LT, rep, hist_dem)\n",
    "    historical_byprodcut = sum(hist_dem,dims=1) # forecast based on all customers combined. Look at each product seperatley\n",
    "    \n",
    "    #determine LTD (Q) for each product\n",
    "    G = size(hist_dem)[3]\n",
    "    \n",
    "    #initiate arrays\n",
    "    Q = zeros(G,1)\n",
    "    LTD = zeros(G,rep)\n",
    "    for g = 1:G\n",
    "        (LTD[g,:],Q[g,1]) = MarkovBootstrap(historical_byprodcut[:,:,g],LT,rep) #ltd PER PRODUCT\n",
    "    end\n",
    "    Q = round.(Q) #this is by product for the entire system. Divide it up between all sups\n",
    "    \n",
    "    z = round.(Q/nsup)\n",
    "    pAll = zeros(nsup,G)\n",
    "    for g in 1:G\n",
    "        pAll[:,g] = repeat([z[g]],nsup,1)\n",
    "    end\n",
    "    \n",
    "    return (LTD, Q, pAll)\n",
    "    \n",
    "end"
   ]
  },
  {
   "cell_type": "code",
   "execution_count": 1,
   "id": "hollow-trinity",
   "metadata": {},
   "outputs": [
    {
     "data": {
      "text/plain": [
       "AM_design (generic function with 1 method)"
      ]
     },
     "execution_count": 1,
     "metadata": {},
     "output_type": "execute_result"
    }
   ],
   "source": [
    "function AM_design(nsup,ncust)\n",
    "    q = []\n",
    "    for i in 0:2^(nsup+ncust)-1\n",
    "        push!(q,string(i,base=2,pad=nsup+ncust))\n",
    "    end\n",
    "    NetDesign = zeros(2^(nsup+ncust),nsup+ncust)\n",
    "    for i in 1:length(q)\n",
    "        for j in 1:length(q[i])\n",
    "            NetDesign[i,j] = parse(Int8,q[i][j])\n",
    "        end\n",
    "    end\n",
    "    return NetDesign # All suppliers are first, customers are last.\n",
    "end"
   ]
  },
  {
   "cell_type": "code",
   "execution_count": null,
   "id": "directed-cleaners",
   "metadata": {},
   "outputs": [],
   "source": []
  },
  {
   "cell_type": "code",
   "execution_count": 14,
   "id": "provincial-clearing",
   "metadata": {},
   "outputs": [
    {
     "name": "stdout",
     "output_type": "stream",
     "text": [
      "idx_Croston = [1, 2]\n",
      "idx_SBA = Int64[]\n",
      "idx_Croston = [1, 2]\n",
      "idx_SBA = Int64[]\n",
      "idx_Croston = [1, 2]\n",
      "idx_SBA = Int64[]\n"
     ]
    },
    {
     "data": {
      "text/plain": [
       "16"
      ]
     },
     "execution_count": 14,
     "metadata": {},
     "output_type": "execute_result"
    }
   ],
   "source": [
    "hist_dem = gen_historical(adi, cv2, lev, G, ncust)\n",
    "dem_real = gen_dem_realization(nreal, adi, cv2, lev, T, G, ncust);\n",
    "forecast = forecast_dem(hist_dem,G,T)\n",
    "(LTD, Q, pAll) = little_s_inventory(nsup, ncust, LT, N, hist_dem)\n",
    "NetDesign = AM_design(nsup,ncust)\n",
    "ndesign = size(NetDesign)[1]"
   ]
  },
  {
   "cell_type": "code",
   "execution_count": null,
   "id": "silent-marsh",
   "metadata": {},
   "outputs": [],
   "source": []
  }
 ],
 "metadata": {
  "kernelspec": {
   "display_name": "Julia 1.6.1",
   "language": "julia",
   "name": "julia-1.6"
  },
  "language_info": {
   "file_extension": ".jl",
   "mimetype": "application/julia",
   "name": "julia",
   "version": "1.6.1"
  }
 },
 "nbformat": 4,
 "nbformat_minor": 5
}
