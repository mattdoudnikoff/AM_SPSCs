{
 "cells": [
  {
   "cell_type": "code",
   "execution_count": 122,
   "id": "productive-apple",
   "metadata": {
    "scrolled": true
   },
   "outputs": [],
   "source": [
    "#Packages needed\n",
    "using Optim\n",
    "using Plots\n",
    "using StatsBase\n",
    "using Distributions\n",
    "using Statistics\n",
    "using Random\n",
    "using JuMP, Gurobi, GLPK\n",
    "using TickTock\n",
    "using Distributed\n",
    "using CSV\n",
    "using DataFrames\n",
    "using JLD2\n",
    "using Dates\n",
    "\n",
    "####### This function just checks the OS and helps automate things instead of needed to copy and paste paths\n",
    "function checkOS()\n",
    "    path = pwd()\n",
    "    if path[1] == '/'\n",
    "        OS = \"Mac\"\n",
    "    else\n",
    "        OS = \"Windows\"\n",
    "    end\n",
    "    return OS\n",
    "end\n",
    "OS = checkOS()\n",
    "file_path = pwd();"
   ]
  },
  {
   "cell_type": "code",
   "execution_count": 123,
   "id": "million-junior",
   "metadata": {},
   "outputs": [
    {
     "data": {
      "text/plain": [
       "save_data"
      ]
     },
     "execution_count": 123,
     "metadata": {},
     "output_type": "execute_result"
    }
   ],
   "source": [
    "#####Load correct .jl files for functions (accommodates for Mac or Windows)\n",
    "if OS == \"Mac\"\n",
    "    inipath = file_path[1:findlast(\"Julia_Code\",file_path)[end]]*\"/\"\n",
    "    include(inipath * \"1. Tradeoff Curvers and Value of AM Addition/2. Scripts/Generate_Forecast.jl\")\n",
    "    include(inipath * \"3. Functions/MILPSetups.jl\")\n",
    "    include(inipath * \"3. Functions/Functions.jl\")\n",
    "else \n",
    "    inipath = file_path[1:findlast(\"Julia_Code\",file_path)[end]] * \"\\\\\"\n",
    "    include(inipath * \"1. Tradeoff Curvers and Value of AM Addition\\\\2. Scripts\\\\Generate_Forecast.jl\")\n",
    "    include(inipath * \"3. Functions\\\\MILPSetups.jl\")\n",
    "    include(inipath * \"3. Functions\\\\Functions.jl\")\n",
    "end"
   ]
  },
  {
   "cell_type": "code",
   "execution_count": null,
   "id": "6f09c116-de76-4471-80cd-1101a2e899aa",
   "metadata": {},
   "outputs": [],
   "source": []
  },
  {
   "cell_type": "code",
   "execution_count": 141,
   "id": "worthy-garlic",
   "metadata": {},
   "outputs": [
    {
     "data": {
      "text/plain": [
       "4"
      ]
     },
     "execution_count": 141,
     "metadata": {},
     "output_type": "execute_result"
    }
   ],
   "source": [
    "###########Test Conditions\n",
    "avg_dem = 3\n",
    "adi = 4.5\n",
    "cv2 = 4.5\n",
    "lev = avg_dem * adi\n",
    "T = 60      #Time Horizon\n",
    "G = 1 #Number of products\n",
    "obs = 180\n",
    "nreal = 100 # number of realizations to generate\n",
    "LT = [7] #based on LT of resupply from TM to supplier\n",
    "N=1000 # Number of replications to generate LTD based on\n",
    "AM_capacity = 4"
   ]
  },
  {
   "cell_type": "code",
   "execution_count": 142,
   "id": "original-stability",
   "metadata": {},
   "outputs": [
    {
     "data": {
      "text/plain": [
       "(1, 4, 1, [1.0], [1.0 1.0 1.0 1.0], [25.0], [25.0 25.0 25.0 25.0])"
      ]
     },
     "execution_count": 142,
     "metadata": {},
     "output_type": "execute_result"
    }
   ],
   "source": [
    "############Supply Chain Design\n",
    "\"\"\"\n",
    "#Kyle's paper matrix 1-3-2\n",
    "\n",
    "trans_matrix = [0 25 25 25 0  0;\n",
    "                0 0  0  0  25 0;\n",
    "                0 0  0  0  50 50;\n",
    "                0 0  0  0  0  25;\n",
    "                0 0  0  0  0  0;\n",
    "                0 0  0  0  0  0]\n",
    "TM = [1]\n",
    "DC = [2 3 4]\n",
    "SL = [5 6]\n",
    "\"\"\"\n",
    "#Validation SC 1-1-4\n",
    "trans_matrix = [0 25 0  0  0  0;\n",
    "                0 0  25 25 25 25;\n",
    "                0 0  0  0  0  0;\n",
    "                0 0  0  0  0  0;\n",
    "                0 0  0  0  0  0;\n",
    "                0 0  0  0  0  0]\n",
    "\n",
    "TM = [1]\n",
    "DC = [2]\n",
    "SL = [3 4 5 6]\n",
    "\"\"\"\n",
    "#Network - 1-3-6 Iso\n",
    "trans_matrix = [0 25 25 25  0  0  0  0  0  0; #will vary the last 25 in this row\n",
    "                0 0  0  0  25 25 25  0  0  0;\n",
    "                0 0  0  0  0  25 25 25  0  0;\n",
    "                0 0  0  0  0  0   0  0 25 25;\n",
    "                0 0  0  0  0  0   0  0  0  0;\n",
    "                0 0  0  0  0  0   0  0  0  0;\n",
    "                0 0  0  0  0  0   0  0  0  0;\n",
    "                0 0  0  0  0  0   0  0  0  0;\n",
    "                0 0  0  0  0  0   0  0  0  0;\n",
    "                0 0  0  0  0  0   0  0  0  0]\n",
    "TM = [1]\n",
    "DC = [2 3 4]\n",
    "SL = [5 6 7 8 9 10]\n",
    "\"\"\"\n",
    "\n",
    "nsup, ncust, nTM, valid_TMrte, Suprte, CtTM, CtS = trans_matrix_math(trans_matrix,TM,DC,SL)"
   ]
  },
  {
   "cell_type": "code",
   "execution_count": 143,
   "id": "therapeutic-channel",
   "metadata": {
    "scrolled": true,
    "tags": []
   },
   "outputs": [
    {
     "name": "stdout",
     "output_type": "stream",
     "text": [
      "idx_Croston = Int64[]\n",
      "idx_SBA = [1]\n"
     ]
    },
    {
     "data": {
      "text/plain": [
       "\"##### Validation code, done to bring MATLAB data over\\nusing DataFrames; forecast = CSV.read(\\\"C:\\\\Users\\\\lmdoudni\\\\Documents\\\\forecast.csv\\\", DataFrame)\\nusing DataFrames; hist_dem = CSV.read(\\\"C:\\\\Users\\\\lmdoudni\\\\Documents\\\\hist_dem.csv\\\", DataFrame)\\nusing DataFrames; demand = CSV.read(\\\"C:\\\\Users\\\\lmdoudni\\\\Documents\\\\demand.csv\\\", DataFrame)\\nforecast = Matrix(forecast)\\nforecast = reshape(forecast,(2,60,3))\\nhist_dem = Matrix(hist_dem)\\nhist_dem = reshape(hist_dem,(2,180,3))\\ndemand = Matrix(demand)\\nhold = zeros(50,60,2,3)\\nfor g=1:G\\n    for t=1:T\\n        hold[:,t,1:2,g] = demand[:,((2*t*g)-1):(2*t*g)]\\n    end\\nend\\ndem_real = floor.(Int64,hold)\\n\\n#Hard Coded Min Policy\\npAll = [18 19 19; 18 19 19; 18 19 19]\\n\""
      ]
     },
     "execution_count": 143,
     "metadata": {},
     "output_type": "execute_result"
    }
   ],
   "source": [
    "######### All generate forecast code\n",
    "hist_dem = gen_historical(adi, cv2, lev, G, nsup)\n",
    "DC_dem, baseline_dem = gen_dem_realization(nreal, adi, cv2, lev, T, G, nsup);\n",
    "dem_real = split_demand(nreal,T,ncust,nsup,G,Suprte,DC_dem)\n",
    "forecast = forecast_dem(hist_dem,G,T,ncust,Suprte)\n",
    "(LTD, Q, pAll) = little_s_inventory_DC(nsup, ncust, LT, N, hist_dem,true)\n",
    "NetDesign = AM_design(nsup,ncust)\n",
    "ndesign = size(NetDesign)[1]\n",
    "\n",
    "\"\"\"\n",
    "##### Validation code, done to bring MATLAB data over\n",
    "using DataFrames; forecast = CSV.read(\"C:\\\\Users\\\\lmdoudni\\\\Documents\\\\forecast.csv\", DataFrame)\n",
    "using DataFrames; hist_dem = CSV.read(\"C:\\\\Users\\\\lmdoudni\\\\Documents\\\\hist_dem.csv\", DataFrame)\n",
    "using DataFrames; demand = CSV.read(\"C:\\\\Users\\\\lmdoudni\\\\Documents\\\\demand.csv\", DataFrame)\n",
    "forecast = Matrix(forecast)\n",
    "forecast = reshape(forecast,(2,60,3))\n",
    "hist_dem = Matrix(hist_dem)\n",
    "hist_dem = reshape(hist_dem,(2,180,3))\n",
    "demand = Matrix(demand)\n",
    "hold = zeros(50,60,2,3)\n",
    "for g=1:G\n",
    "    for t=1:T\n",
    "        hold[:,t,1:2,g] = demand[:,((2*t*g)-1):(2*t*g)]\n",
    "    end\n",
    "end\n",
    "dem_real = floor.(Int64,hold)\n",
    "\n",
    "#Hard Coded Min Policy\n",
    "pAll = [18 19 19; 18 19 19; 18 19 19]\n",
    "\"\"\""
   ]
  },
  {
   "cell_type": "code",
   "execution_count": 149,
   "id": "brave-baking",
   "metadata": {},
   "outputs": [
    {
     "data": {
      "text/plain": [
       "1×1 Matrix{Float64}:\n",
       " 61.0"
      ]
     },
     "execution_count": 149,
     "metadata": {},
     "output_type": "execute_result"
    }
   ],
   "source": [
    "#Cost and Lag Inputs (Edit if you really want to)\n",
    "##### NOTE: you can input the exact dimensions and change cost as you please or you can have just a single number there and that will address all the variation in check dims command\n",
    "LagTM = LT # Rows = TM Columns = Sup \n",
    "\n",
    "LagS = [2] # Rows = Sup  Columns = Cust \n",
    "\n",
    "\n",
    "CpTM = [1] #rows = num products\n",
    "\n",
    "#********CpAM incorporates both supplier and customers becasue AM is located at both locs\n",
    "CpAM = [1] #Rows = Sup and Cust, Sups first, Cols = Time, 3D=Prod  \n",
    "\n",
    "##### This might be needed later\n",
    "CtSexpanded = repeat(CtS,1,T,G)\n",
    "\n",
    "#All needs to be a function of value of the product. Wont be the same for all products usually\n",
    "Ci = [3] #Rows = Sup, Cols = Time, 3D = prod\n",
    "\n",
    "CiRetailer = [5] #rows = Retailer, Cols = Time, 3D = prod\n",
    "CBO = [378] #Rows = Retailer, Cols = Time, 3D = prod\n",
    "\n",
    "\n",
    "##### Setting up expedited infrastructure\n",
    "CpExp = ones(1,T,G) #covers all expedited prod...... Rows = nTM, Cols = Time, 3D = prod\n",
    "\n",
    "### cost of expedited teransportation. TM direct to SL\n",
    "CtExp = [100] #Transport from RETAILER DIRECT location. Rows = RETAILER Locs, Cols =Time (in the end), 3D Prod (new TM)\n",
    "\n",
    "LagExp = [3] #Rows = TM, Cols = Retailers\n",
    "\n",
    "\n",
    "###### Transhipment  ********* NEEDS WORK ON LATER\n",
    "#Expedited transport cost from Supplier to Supplier. ONLY USED IN EVAL MILP\n",
    "CtransferExp = [0 25 25; 25 0 25; 25 25 0] #square matrix of ALL suppliers. cost of lateral transfer between suppliers\n",
    "\n",
    "#valid_transferExprte = [0 1 1; 1 0 1; 1 1 0]\n",
    "#valid_transferExprte = [0 0 0; 0 0 0; 0 0 0]\n",
    "\n",
    "LagTransferExp = 1 #time lag to transfer between suppliers (ASSUME ALL LAGS ARE 1)\n",
    "\n",
    "#The transferred prodcut still flows to the customer in the same manner as normal product. Break it out in separate vars for visualization\n",
    "CtransferExpFLOW = CtSexpanded\n",
    "\n",
    "#AM stuff must incorporate both suppliers and customers because both locs have AM, \n",
    "AM_fixed_cost = [121] #suppliers must come first #this is per day\n",
    "\n",
    "#Suppliers and cust. Suppliers must come first\n",
    "K_stable = [1] #AM indicator. Rows = Sup and Cust. Cols = Time. 3D=Products  ####used to be capacity but i made that a scalar above\n",
    "\n",
    "#Expedited Capacity (can change to help prevent eval model from expediting everything)\n",
    "CtExpCapacity = zeros(size(CtExp))\n",
    "CtExpCapacity .= 0 #change as needed\n",
    "\n",
    "yinit = pAll .+ 10 #Start with more products?\n",
    "#LagTM,LagS,CpTM,valid_TMrte,valid_Suprte,Ci,CiRetailer,CBO,CpAM,AM_fixed_cost,K_stable = check_dims(nsup,ncust,nTM,T,G,LagTM,LagS,CpTM,valid_TMrte,Suprte,Ci,CiRetailer,CBO,CpAM,AM_fixed_cost,K_stable)"
   ]
  },
  {
   "cell_type": "code",
   "execution_count": 150,
   "id": "athletic-initial",
   "metadata": {
    "scrolled": true,
    "tags": []
   },
   "outputs": [
    {
     "name": "stdout",
     "output_type": "stream",
     "text": [
      "Design 1"
     ]
    },
    {
     "name": "stderr",
     "output_type": "stream",
     "text": [
      "┌ Info:  started timer at: 2021-11-11T18:06:10.869\n",
      "└ @ TickTock C:\\Users\\lmdoudni\\.julia\\packages\\TickTock\\RsTHR\\src\\TickTock.jl:32\n"
     ]
    },
    {
     "name": "stdout",
     "output_type": "stream",
     "text": [
      "\n",
      "[36.0 0.0 36.0 0.0 0.0 36.0 0.0 0.0 0.0 0.0 0.0 37.99999999999994 0.0 0.0 0.0 0.0 0.0 36.0 0.0 0.0 0.0 0.0 0.0 36.0 0.0 0.0 0.0 0.0 0.0 36.0 0.0 0.0 0.0 0.0 0.0 36.0 0.0 0.0 0.0 0.0 0.0 36.00000000000182 0.0 0.0 0.0 0.0 0.0 36.0 0.0 0.0 0.0 0.0 0.0 35.99999999999818 0.0 0.0 0.0 0.0 0.0 0.0]\n",
      "Design 2\n",
      "[35.0 0.0 35.0 0.0 0.0 0.0 0.0 0.0 37.0 0.0 0.0 0.0 0.0 0.0 36.0 0.0 0.0 0.0 0.0 0.0 35.0 0.0 0.0 0.0 0.0 0.0 35.0 0.0 0.0 0.0 0.0 0.0 35.0 0.0 0.0 0.0 0.0 0.0 36.0 0.0 0.0 0.0 0.0 0.0 35.0 0.0 0.0 0.0 0.0 0.0 0.0 0.0 0.0 0.0 0.0 0.0 0.0 0.0 0.0 0.0]\n",
      "Design 3\n",
      "[29.0 0.0 29.0 0.0 0.0 0.0 41.0 0.0 0.0 0.0 0.0 0.0 35.0 0.0 0.0 0.0 0.0 0.0 29.0 0.0 0.0 0.0 0.0 0.0 29.0 0.0 0.0 0.0 0.0 0.0 30.0 0.0 0.0 0.0 0.0 0.0 29.0 0.0 0.0 0.0 0.0 0.0 29.0 0.0 0.0 0.0 0.0 0.0 29.0 0.0 0.0 0.0 0.0 0.0 0.0 0.0 0.0 0.0 0.0 0.0]\n",
      "Design 4\n",
      "[22.0 0.0 22.0 0.0 0.0 0.0 33.0 0.0 0.0 0.0 0.0 0.0 27.00000000000044 0.0 0.0 0.0 0.0 0.0 22.0 0.0 0.0 0.0 0.0 0.0 22.0 0.0 0.0 0.0 0.0 22.0 0.0 0.0 0.0 0.0 0.0 22.0 0.0 0.0 0.0 0.0 0.0 25.0 0.0 0.0 0.0 0.0 0.0 25.0 0.0 0.0 0.0 0.0 0.0 0.0 0.0 0.0 0.0 0.0 0.0 0.0]\n",
      "Design 5\n",
      "[33.00000000000001 0.0 33.00000000000001 0.0 0.0 0.0 0.0 0.0 39.00000000000001 0.0 0.0 0.0 0.0 0.0 35.99999999999999 0.0 0.0 0.0 0.0 0.0 33.00000000000001 0.0 0.0 0.0 0.0 0.0 33.00000000000001 0.0 0.0 0.0 0.0 0.0 33.00000000000001 0.0 0.0 0.0 0.0 0.0 33.00000000000001 0.0 0.0 0.0 0.0 0.0 33.00000000000001 0.0 0.0 0.0 0.0 0.0 0.0 0.0 0.0 0.0 0.0 0.0 0.0 0.0 0.0 0.0]\n",
      "Design 6\n",
      "[21.0 0.0 21.0 0.0 0.0 0.0 33.0 0.0 0.0 0.0 0.0 0.0 27.0 0.0 0.0 0.0 0.0 0.0 21.0 0.0 0.0 0.0 0.0 0.0 21.0 0.0 0.0 0.0 0.0 0.0 21.0 0.0 0.0 0.0 0.0 0.0 21.0 0.0 0.0 0.0 0.0 0.0 21.0 0.0 0.0 0.0 0.0 0.0 21.0 0.0 0.0 0.0 0.0 0.0 0.0 0.0 0.0 0.0 0.0 0.0]\n",
      "Design 7\n",
      "[21.0 0.0 21.0 0.0 0.0 0.0 33.0 0.0 0.0 0.0 0.0 0.0 27.0 0.0 0.0 0.0 0.0 0.0 21.0 0.0 0.0 0.0 0.0 0.0 22.0 0.0 0.0 0.0 0.0 0.0 24.0 0.0 0.0 0.0 0.0 0.0 21.0 0.0 0.0 0.0 0.0 0.0 21.0 0.0 0.0 0.0 0.0 0.0 21.0 0.0 0.0 0.0 0.0 0.0 0.0 0.0 0.0 0.0 0.0 0.0]\n",
      "Design 8\n",
      "[22.0 0.0 22.0 0.0 0.0 0.0 34.0 0.0 0.0 0.0 0.0 0.0 28.0 0.0 0.0 0.0 0.0 0.0 23.0 0.0 0.0 0.0 0.0 22.0 0.0 0.0 0.0 0.0 0.0 22.0 0.0 0.0 0.0 0.0 0.0 22.0 0.0 0.0 0.0 0.0 0.0 25.0 0.0 0.0 0.0 0.0 0.0 25.0 0.0 0.0 0.0 0.0 0.0 0.0 0.0 0.0 0.0 0.0 0.0 0.0]\n",
      "Design 9\n",
      "[34.0 0.0 34.0 0.0 0.0 0.0 0.0 0.0 38.0 0.0 0.0 0.0 0.0 0.0 36.0 0.0 0.0 0.0 0.0 0.0 34.0 0.0 0.0 0.0 0.0 0.0 34.0 0.0 0.0 0.0 0.0 0.0 34.0 0.0 0.0 0.0 0.0 0.0 34.0 0.0 0.0 0.0 0.0 0.0 34.0 0.0 0.0 0.0 0.0 0.0 0.0 0.0 0.0 0.0 0.0 0.0 0.0 0.0 0.0 0.0]\n",
      "Design 10\n",
      "[21.0 0.0 21.0 0.0 0.0 0.0 32.0 0.0 0.0 0.0 0.0 0.0 26.0 0.0 0.0 0.0 0.0 0.0 21.0 0.0 0.0 0.0 0.0 0.0 24.0 0.0 0.0 0.0 0.0 0.0 21.0 0.0 0.0 0.0 0.0 0.0 21.0 0.0 0.0 0.0 0.0 0.0 22.0 0.0 0.0 0.0 0.0 0.0 21.0 0.0 0.0 0.0 0.0 0.0 0.0 0.0 0.0 0.0 0.0 0.0]\n",
      "Design 11\n",
      "[0.0 21.0 21.0 0.0 0.0 0.0 0.0 33.0 0.0 0.0 0.0 0.0 0.0 27.0 0.0 0.0 0.0 0.0 0.0 21.0 0.0 0.0 0.0 0.0 0.0 21.0 0.0 0.0 0.0 0.0 0.0 21.0 0.0 0.0 0.0 0.0 0.0 22.0 0.0 0.0 0.0 0.0 0.0 23.0 0.0 0.0 0.0 0.0 0.0 22.0 0.0 0.0 0.0 0.0 0.0 0.0 0.0 0.0 0.0 0.0]\n",
      "Design 12\n",
      "[22.0 0.0 22.0 0.0 0.0 0.0 34.0 0.0 0.0 0.0 0.0 0.0 28.0 0.0 0.0 0.0 0.0 0.0 22.0 0.0 0.0 0.0 0.0 0.0 22.0 0.0 0.0 0.0 0.0 0.0 22.0 0.0 0.0 0.0 0.0 0.0 22.0 0.0 0.0 0.0 0.0 0.0 22.0 0.0 0.0 0.0 0.0 0.0 22.0 0.0 0.0 0.0 0.0 0.0 0.0 0.0 0.0 0.0 0.0 0.0]\n",
      "Design 13\n",
      "[0.0 20.0 20.0 0.0 0.0 0.0 0.0 32.0 0.0 0.0 0.0 0.0 0.0 26.0 0.0 0.0 0.0 0.0 0.0 20.0 0.0 0.0 0.0 0.0 20.0 0.0 0.0 0.0 0.0 0.0 20.0 0.0 0.0 0.0 0.0 0.0 22.0 0.0 0.0 0.0 0.0 0.0 21.0 0.0 0.0 0.0 0.0 0.0 20.0 0.0 0.0 0.0 0.0 0.0 0.0 0.0 0.0 0.0 0.0 0.0]\n",
      "Design 14\n",
      "[21.0 0.0 21.0 0.0 0.0 0.0 33.0 0.0 0.0 0.0 0.0 0.0 27.0 0.0 0.0 0.0 0.0 0.0 21.0 0.0 0.0 0.0 0.0 0.0 21.0 0.0 0.0 0.0 0.0 0.0 21.0 0.0 0.0 0.0 0.0 21.0 0.0 0.0 0.0 0.0 0.0 24.0 0.0 0.0 0.0 0.0 0.0 23.0 0.0 0.0 0.0 0.0 0.0 0.0 0.0 0.0 0.0 0.0 0.0 0.0]\n",
      "Design 15\n",
      "[0.0 20.0 20.0 0.0 0.0 0.0 0.0 32.0 0.0 0.0 0.0 0.0 0.0 26.0 0.0 0.0 0.0 0.0 0.0 23.0 0.0 0.0 0.0 0.0 0.0 22.0 0.0 0.0 0.0 0.0 0.0 21.0 0.0 0.0 0.0 0.0 0.0 20.0 0.0 0.0 0.0 0.0 0.0 21.0 0.0 0.0 0.0 0.0 0.0 20.0 0.0 0.0 0.0 0.0 0.0 0.0 0.0 0.0 0.0 0.0]\n",
      "Design 16\n",
      "[0.0 15.0 15.0 0.0 0.0 0.0 0.0 27.0 0.0 0.0 0.0 0.0 0.0 21.0 0.0 0.0 0.0 0.0 0.0 17.0 0.0 0.0 0.0 0.0 0.0 16.0 0.0 0.0 0.0 0.0 0.0 16.0 0.0 0.0 0.0 0.0 0.0 17.0 0.0 0.0 0.0 0.0 0.0 18.0 0.0 0.0 0.0 0.0 0.0 16.0 0.0 0.0 0.0 0.0 0.0 0.0 0.0 0.0 0.0 0.0]\n",
      "Design 17\n",
      "[18.0 0.0 18.000000000000004 0.0 0.0 0.0 26.000000000000004 0.0 0.0 0.0 0.0 0.0 20.000000000000004 0.0 0.0 0.0 0.0 14.000000000000373 16.000000000000004 0.0 0.0 0.0 0.0 18.000000000000377 0.0 0.0 0.0 0.0 0.0 14.000000000000004 0.0 0.0 0.0 0.0 0.0 13.999999999999996 0.0 0.0 0.0 0.0 14.000000000000004 16.000000000000004 0.0 0.0 0.0 0.0 18.000000000000007 0.0 0.0 0.0 0.0 0.0 0.0 0.0 0.0 0.0 0.0 0.0 0.0 0.0]\n",
      "Design 18\n",
      "[22.0 0.0 20.0 0.0 0.0 0.0 29.0 0.0 0.0 0.0 0.0 0.0 23.0 0.0 0.0 0.0 0.0 0.0 19.0 0.0 0.0 0.0 0.0 18.0 0.0 0.0 0.0 0.0 0.0 18.0 0.0 0.0 0.0 0.0 0.0 18.0 0.0 0.0 0.0 0.0 0.0 18.0 0.0 0.0 0.0 0.0 0.0 18.0 0.0 0.0 0.0 0.0 0.0 0.0 0.0 0.0 0.0 0.0 0.0 0.0]\n",
      "Design 19\n",
      "[20.0 0.0 21.0 0.0 0.0 0.0 30.0 0.0 0.0 0.0 0.0 0.0 24.0 0.0 0.0 0.0 0.0 0.0 22.0 0.0 0.0 0.0 0.0 19.0 0.0 0.0 0.0 0.0 0.0 19.0 0.0 0.0 0.0 0.0 0.0 19.0 0.0 0.0 0.0 0.0 0.0 19.0 0.0 0.0 0.0 0.0 0.0 21.0 0.0 0.0 0.0 0.0 0.0 0.0 0.0 0.0 0.0 0.0 0.0 0.0]\n",
      "Design 20\n",
      "[22.000000000000007 0.0 21.999999999999982 0.0 0.0 0.0 33.0 0.0 0.0 0.0 0.0 0.0 27.0 0.0 0.0 0.0 0.0 0.0 22.0 0.0 0.0 0.0 0.0 0.0 21.0 0.0 0.0 0.0 0.0 0.0 21.0 0.0 0.0 0.0 0.0 0.0 21.0 0.0 0.0 0.0 0.0 0.0 22.0 0.0 0.0 0.0 0.0 21.0 0.0 0.0 0.0 0.0 0.0 0.0 0.0 0.0 0.0 0.0 0.0 0.0]\n",
      "Design 21\n",
      "[20.0 0.0 20.0 0.0 0.0 0.0 30.0 0.0 0.0 0.0 0.0 0.0 24.0 0.0 0.0 0.0 0.0 18.0 0.0 0.0 0.0 0.0 0.0 18.0 0.0 0.0 0.0 0.0 0.0 18.0 0.0 0.0 0.0 0.0 0.0 18.0 0.0 0.0 0.0 0.0 0.0 18.0 0.0 0.0 0.0 0.0 0.0 18.0 0.0 0.0 0.0 0.0 0.0 0.0 0.0 0.0 0.0 0.0 0.0 0.0]\n",
      "Design 22\n",
      "[23.000000000000007 0.0 22.0 0.0 0.0 0.0 33.0 0.0 0.0 0.0 0.0 0.0 27.0 0.0 0.0 0.0 0.0 0.0 21.0 0.0 0.0 0.0 0.0 0.0 21.0 0.0 0.0 0.0 0.0 21.0 0.0 0.0 0.0 0.0 0.0 21.0 0.0 0.0 0.0 0.0 0.0 22.0 0.0 0.0 0.0 0.0 0.0 22.0 0.0 0.0 0.0 0.0 0.0 0.0 0.0 0.0 0.0 0.0 0.0 0.0]\n",
      "Design 23\n",
      "[20.999999999999964 0.0 22.000000000000036 0.0 0.0 0.0 32.99999999999997 0.0 0.0 0.0 0.0 0.0 26.99999999999997 0.0 0.0 0.0 0.0 0.0 20.99999999999997 0.0 0.0 0.0 0.0 0.0 20.99999999999997 0.0 0.0 0.0 0.0 20.99999999999997 0.0 0.0 0.0 0.0 0.0 20.99999999999997 0.0 0.0 0.0 0.0 0.0 21.00000000000003 0.0 0.0 0.0 0.0 0.0 23.0 0.0 0.0 0.0 0.0 0.0 0.0 0.0 0.0 0.0 0.0 0.0 0.0]\n",
      "Design 24\n",
      "[15.0 0.0 16.0 0.0 0.0 0.0 27.0 0.0 0.0 0.0 0.0 0.0 21.0 0.0 0.0 0.0 0.0 0.0 15.0 0.0 0.0 0.0 0.0 0.0 15.0 0.0 0.0 0.0 0.0 0.0 17.0 0.0 0.0 0.0 0.0 0.0 17.0 0.0 0.0 0.0 0.0 0.0 17.0 0.0 0.0 0.0 0.0 0.0 16.0 0.0 0.0 0.0 0.0 0.0 0.0 0.0 0.0 0.0 0.0 0.0]\n",
      "Design 25\n",
      "[19.0 0.0 21.0 0.0 0.0 0.0 31.0 0.0 0.0 0.0 0.0 0.0 25.0 0.0 0.0 0.0 0.0 18.999999999999257 0.0 0.0 0.0 0.0 0.0 19.0 0.0 0.0 0.0 0.0 0.0 19.0 0.0 0.0 0.0 0.0 0.0 19.0 0.0 0.0 0.0 0.0 0.0 19.0 0.0 0.0 0.0 0.0 0.0 19.0 0.0 0.0 0.0 0.0 0.0 0.0 0.0 0.0 0.0 0.0 0.0 0.0]\n",
      "Design 26\n",
      "[22.0 0.0 22.0 0.0 0.0 0.0 33.0 0.0 0.0 0.0 0.0 0.0 27.0 0.0 0.0 0.0 0.0 0.0 21.0 0.0 0.0 0.0 0.0 0.0 21.0 0.0 0.0 0.0 0.0 0.0 21.0 0.0 0.0 0.0 0.0 21.0 0.0 0.0 0.0 0.0 0.0 21.0 0.0 0.0 0.0 0.0 0.0 21.0 0.0 0.0 0.0 0.0 0.0 0.0 0.0 0.0 0.0 0.0 0.0 0.0]\n",
      "Design 27\n",
      "[22.0 0.0 23.000000000000053 0.0 0.0 0.0 32.999999999999844 0.0 0.0 0.0 0.0 0.0 26.999999999999943 0.0 0.0 0.0 0.0 0.0 22.0 0.0 0.0 0.0 0.0 0.0 22.0 0.0 0.0 0.0 0.0 0.0 22.0 0.0 0.0 0.0 0.0 0.0 22.0 0.0 0.0 0.0 0.0 0.0 23.0 0.0 0.0 0.0 0.0 22.0 0.0 0.0 0.0 0.0 0.0 0.0 0.0 0.0 0.0 0.0 0.0 0.0]\n",
      "Design 28\n",
      "[0.0 14.0 14.0 0.0 0.0 0.0 0.0 23.0 0.0 0.0 0.0 0.0 13.0 17.0 0.0 0.0 0.0 0.0 18.0 0.0 0.0 0.0 0.0 0.0 17.0 0.0 0.0 0.0 0.0 0.0 16.0 0.0 0.0 0.0 0.0 0.0 16.0 0.0 0.0 0.0 0.0 0.0 17.0 0.0 0.0 0.0 0.0 0.0 16.0 0.0 0.0 0.0 0.0 0.0 0.0 0.0 0.0 0.0 0.0 0.0]\n",
      "Design 29\n",
      "[20.0 0.0 21.0 0.0 0.0 0.0 32.0 0.0 0.0 0.0 0.0 0.0 26.0 0.0 0.0 0.0 0.0 0.0 20.0 0.0 0.0 0.0 0.0 0.0 20.0 0.0 0.0 0.0 0.0 0.0 20.0 0.0 0.0 0.0 0.0 0.0 20.0 0.0 0.0 0.0 0.0 0.0 20.0 0.0 0.0 0.0 0.0 0.0 20.0 0.0 0.0 0.0 0.0 0.0 0.0 0.0 0.0 0.0 0.0 0.0]\n",
      "Design 30\n",
      "[17.000000000000014 0.0 18.0 0.0 0.0 0.0 29.000000000000014 0.0 0.0 0.0 0.0 0.0 22.99999999999998 0.0 0.0 0.0 0.0 0.0 17.000000000000014 0.0 0.0 0.0 0.0 0.0 17.000000000000014 0.0 0.0 0.0 0.0 0.0 17.0 0.0 0.0 0.0 0.0 0.0 17.000000000000014 0.0 0.0 0.0 0.0 17.000000000000014 0.0 0.0 0.0 0.0 0.0 17.000000000000014 0.0 0.0 0.0 0.0 8.881784197001252e-16 0.0 0.0 0.0 0.0 0.0 0.0 0.0]\n",
      "Design 31\n",
      "[0.0 14.0 15.0 0.0 0.0 0.0 0.0 26.0 0.0 0.0 0.0 0.0 0.0 20.0 0.0 0.0 0.0 0.0 0.0 16.0 0.0 0.0 0.0 0.0 0.0 14.0 0.0 0.0 0.0 0.0 0.0 14.0 0.0 0.0 0.0 0.0 0.0 15.0 0.0 0.0 0.0 0.0 14.0 17.0 0.0 0.0 0.0 0.0 19.0 0.0 0.0 0.0 0.0 0.0 0.0 0.0 0.0 0.0 0.0 0.0]\n",
      "Design 32\n",
      "[36.0 0.0 36.0 0.0 0.0 36.0 0.0 0.0 0.0 0.0 0.0 37.99999999999994 0.0 0.0 0.0 0.0 0.0 36.0 0.0 0.0 0.0 0.0 0.0 36.0 0.0 0.0 0.0 0.0 0.0 36.0 0.0 0.0 0.0 0.0 0.0 36.0 0.0 0.0 0.0 0.0 0.0 36.00000000000182 0.0 0.0 0.0 0.0 0.0 36.0 0.0 0.0 0.0 0.0 0.0 35.99999999999818 0.0 0.0 0.0 0.0 0.0 0.0]\n"
     ]
    },
    {
     "name": "stderr",
     "output_type": "stream",
     "text": [
      "┌ Info:           84.3219939s: 1 minute, 24 seconds, 321 milliseconds\n",
      "└ @ TickTock C:\\Users\\lmdoudni\\.julia\\packages\\TickTock\\RsTHR\\src\\TickTock.jl:39\n"
     ]
    }
   ],
   "source": [
    "tick()\n",
    "Big_S,TC_stored = big_S_MILP(T,G,nsup,ncust,CpTM,CpAM,CtTM,CtS,Ci,CiRetailer,CBO,valid_TMrte,Suprte,CtExp,CtransferExp,K_stable,LagS,\n",
    "    LagTM,ndesign,AM_fixed_cost,LagTransferExp,CtransferExpFLOW, yinit, pAll, forecast, NetDesign, AM_capacity)\n",
    "tock()"
   ]
  },
  {
   "cell_type": "code",
   "execution_count": 151,
   "id": "d1503b6b-448e-42ef-90d2-995d044a55dc",
   "metadata": {},
   "outputs": [
    {
     "data": {
      "text/plain": [
       "1×1 Matrix{Float64}:\n",
       " 51.0"
      ]
     },
     "execution_count": 151,
     "metadata": {},
     "output_type": "execute_result"
    }
   ],
   "source": [
    "pAll"
   ]
  },
  {
   "cell_type": "code",
   "execution_count": 152,
   "id": "ccdf6fe8-e319-46de-96c4-b38498e8f6ed",
   "metadata": {},
   "outputs": [
    {
     "data": {
      "text/plain": [
       "32×1×1 Array{Float64, 3}:\n",
       "[:, :, 1] =\n",
       " 87.0\n",
       " 86.0\n",
       " 80.0\n",
       " 73.0\n",
       " 83.99999999999999\n",
       " 72.0\n",
       " 72.0\n",
       " 73.0\n",
       " 85.0\n",
       " 72.0\n",
       " 72.0\n",
       " 73.0\n",
       " 71.0\n",
       "  ⋮\n",
       " 69.0\n",
       " 72.0\n",
       " 71.99999999999997\n",
       " 66.0\n",
       " 70.0\n",
       " 72.0\n",
       " 73.0\n",
       " 64.0\n",
       " 71.0\n",
       " 68.00000000000001\n",
       " 65.0\n",
       " 87.0"
      ]
     },
     "execution_count": 152,
     "metadata": {},
     "output_type": "execute_result"
    }
   ],
   "source": [
    "permutedims(Big_S,[3,1,2]) #pAll"
   ]
  },
  {
   "cell_type": "code",
   "execution_count": 140,
   "id": "wooden-consciousness",
   "metadata": {
    "scrolled": true
   },
   "outputs": [
    {
     "name": "stdout",
     "output_type": "stream",
     "text": [
      "Design 1"
     ]
    },
    {
     "name": "stderr",
     "output_type": "stream",
     "text": [
      "┌ Info:  started timer at: 2021-11-11T16:42:00.682\n",
      "└ @ TickTock C:\\Users\\lmdoudni\\.julia\\packages\\TickTock\\RsTHR\\src\\TickTock.jl:32\n"
     ]
    },
    {
     "name": "stdout",
     "output_type": "stream",
     "text": [
      "\n",
      "Design 2\n",
      "Design 3\n",
      "Design 4\n",
      "Design 5\n",
      "Design 6\n",
      "Design 7\n",
      "Design 8\n",
      "Design 9\n",
      "Design 10\n",
      "Design 11\n",
      "Design 12\n",
      "Design 13\n",
      "Design 14\n",
      "Design 15\n",
      "Design 16\n",
      "Design 17\n",
      "Design 18\n",
      "Design 19\n",
      "Design 20\n",
      "Design 21\n",
      "Design 22\n",
      "Design 23\n",
      "Design 24\n",
      "Design 25\n",
      "Design 26\n",
      "Design 27\n",
      "Design 28\n",
      "Design 29\n",
      "Design 30\n",
      "Design 31\n",
      "Design 32\n"
     ]
    },
    {
     "name": "stderr",
     "output_type": "stream",
     "text": [
      "┌ Info:          141.7237174s: 2 minutes, 21 seconds, 723 milliseconds\n",
      "└ @ TickTock C:\\Users\\lmdoudni\\.julia\\packages\\TickTock\\RsTHR\\src\\TickTock.jl:39\n"
     ]
    }
   ],
   "source": [
    "tick()\n",
    "stored_TC, stored_delivered, stored_BOtotal, stored_BOtrue, stored_BOlag, stored_AMprod, stored_transDC, stored_TMprodCost, \n",
    "    stored_TMtransCost, stored_SupTransCost, stored_InvCarCost, stored_AMprodcost, stored_reorder_qty, stored_transDC, stored_supinv, \n",
    "    stored_invDC, stored_reorder_delivered  = MILP2(T,G,nsup, ncust,CpTM,CpAM,CtTM,CtS,Ci,CiRetailer,CBO,valid_TMrte,Suprte,CtExp,\n",
    "    CtransferExp,K_stable,LagS,LagTM,ndesign, AM_fixed_cost,LagTransferExp,CtransferExpFLOW, yinit, pAll, dem_real, NetDesign, \n",
    "    AM_capacity, Big_S) \n",
    "tock()"
   ]
  },
  {
   "cell_type": "code",
   "execution_count": 51,
   "id": "based-herald",
   "metadata": {
    "scrolled": true,
    "tags": []
   },
   "outputs": [
    {
     "data": {
      "text/plain": [
       "([95864.1; 80697.7; … ; 107483.4; 107412.0], [7.5; 0.0; … ; 0.0; 0.0], [0.0]\n",
       "\n",
       "[460.5]\n",
       "\n",
       "[451.3]\n",
       "\n",
       "...\n",
       "\n",
       "[347.7]\n",
       "\n",
       "[341.7]\n",
       "\n",
       "[485.0], [1698.1; 1207.9; … ; 1324.6; 1185.5], [37452.5; 26762.5; … ; 29162.5; 25915.0], [44550.0; 31252.5; … ; 34507.5; 29482.5], [12163.5; 13754.3; … ; 13107.1; 14044.0], [0.0; 460.5; … ; 341.7; 485.0], [0.0; 0.28262831833782986; … ; 0.20971560831864763; 0.2976881358428374], [1444.8669642719512; 1730.561825920511; … ; 1457.6732753871074; 1292.192538113247], [15.953056133543816; 0.0; … ; 0.0; 0.0], [5.4 2.1; 0.0 0.0; … ; 0.0 0.0; 0.0 0.0])"
      ]
     },
     "execution_count": 51,
     "metadata": {},
     "output_type": "execute_result"
    }
   ],
   "source": [
    "TC,BOtot, AMproduced, TMprodCost, TMtransCost, SupTransCost, InvCarCost, AMprodCost, percent_byAM, TCstdev, BOstdev, BO_by_SL = analyze_outputs(stored_TC,stored_delivered,\n",
    "    stored_BOtrue,stored_AMprod,stored_transDC, stored_TMprodCost, stored_TMtransCost, stored_SupTransCost, stored_InvCarCost, stored_AMprodcost,dem_real)"
   ]
  },
  {
   "cell_type": "code",
   "execution_count": 52,
   "id": "866ef09b-74a7-4c3f-85ee-191f8ed39f39",
   "metadata": {},
   "outputs": [
    {
     "data": {
      "text/plain": [
       "32×2×1×1×1 Array{Float64, 5}:\n",
       "[:, :, 1, 1, 1] =\n",
       " 5.4  2.1\n",
       " 0.0  0.0\n",
       " 0.0  0.0\n",
       " 0.0  0.0\n",
       " 0.9  0.0\n",
       " 1.4  0.0\n",
       " 0.0  0.0\n",
       " 0.0  0.0\n",
       " 0.0  0.0\n",
       " 0.0  0.0\n",
       " 0.0  0.0\n",
       " 0.0  0.0\n",
       " 0.5  0.0\n",
       " ⋮    \n",
       " 0.0  0.0\n",
       " 0.0  0.0\n",
       " 0.0  0.0\n",
       " 0.0  0.0\n",
       " 0.0  0.0\n",
       " 0.0  0.0\n",
       " 0.0  0.0\n",
       " 0.0  0.0\n",
       " 0.0  0.0\n",
       " 0.0  0.0\n",
       " 0.0  0.0\n",
       " 0.0  0.0"
      ]
     },
     "execution_count": 52,
     "metadata": {},
     "output_type": "execute_result"
    }
   ],
   "source": [
    "BO_by_SL"
   ]
  },
  {
   "cell_type": "code",
   "execution_count": 55,
   "id": "marine-restaurant",
   "metadata": {},
   "outputs": [
    {
     "name": "stdout",
     "output_type": "stream",
     "text": [
      "C:\\Users\\lmdoudni\\Documents\\Julia_Code\\9. Raw Output Data\\2021-09-10_134Net_Iso_Initial_Tests_AMCap_4_Erratic_1_2ADI_0_75CV2_3AvgDem.jld2\n"
     ]
    },
    {
     "data": {
      "text/plain": [
       "\"Data saved here: C:\\\\Users\\\\lmdoudni\\\\Documents\\\\Julia_Code\\\\9. Raw Output Data\\\\2021-09-10_134Net_Iso_Initial_Tests_AMCap_4_Erratic_1_2ADI_0_75CV2_3AvgDem.jld2\""
      ]
     },
     "execution_count": 55,
     "metadata": {},
     "output_type": "execute_result"
    }
   ],
   "source": [
    "description = \"134Net_Iso_Initial_Tests_AMCap_4_Erratic\"\n",
    "save_data(description,adi,cv2,avg_dem,TC, BOtot, AMproduced, TMprodCost, TMtransCost, SupTransCost, InvCarCost, AMprodCost, Big_S, pAll, percent_byAM, TCstdev, BOstdev, BO_by_SL)"
   ]
  },
  {
   "cell_type": "code",
   "execution_count": 56,
   "id": "0644be15-0498-4591-9b08-97a1623fa700",
   "metadata": {
    "scrolled": true,
    "tags": []
   },
   "outputs": [
    {
     "data": {
      "text/plain": [
       "67-element Vector{Float64}:\n",
       "  0.0\n",
       " 38.0\n",
       " 38.0\n",
       " 35.0\n",
       " 32.0\n",
       " 32.0\n",
       " 32.0\n",
       " 32.0\n",
       " 31.0\n",
       " 29.0\n",
       " 28.0\n",
       " 36.0\n",
       " 34.0\n",
       "  ⋮\n",
       " 15.0\n",
       " 15.0\n",
       " 15.0\n",
       " 12.0\n",
       " 38.0\n",
       " 38.0\n",
       "  0.0\n",
       "  0.0\n",
       "  0.0\n",
       "  0.0\n",
       "  0.0\n",
       "  0.0"
      ]
     },
     "execution_count": 56,
     "metadata": {},
     "output_type": "execute_result"
    }
   ],
   "source": [
    "stored_invDC[1,:,1,1,32]"
   ]
  },
  {
   "cell_type": "code",
   "execution_count": 67,
   "id": "257ed9a2-1798-48a4-8118-6b8eb5f0bd79",
   "metadata": {},
   "outputs": [
    {
     "data": {
      "text/plain": [
       "67×1 adjoint(::Matrix{Float64}) with eltype Float64:\n",
       "   0.0\n",
       " 109.0\n",
       " 105.0\n",
       "  99.0\n",
       "  91.0\n",
       "  91.0\n",
       "  89.0\n",
       "  74.0\n",
       "  72.0\n",
       "  77.0\n",
       "  63.0\n",
       "  85.0\n",
       "  81.0\n",
       "   ⋮\n",
       "  64.0\n",
       "  61.0\n",
       "  57.0\n",
       "  61.0\n",
       "  87.0\n",
       " 104.0\n",
       "   0.0\n",
       "   0.0\n",
       "   0.0\n",
       "   0.0\n",
       "   0.0\n",
       "   0.0"
      ]
     },
     "metadata": {},
     "output_type": "display_data"
    }
   ],
   "source": [
    "display(\"text/plain\", sum(stored_invDC[:,:,1,1,32],dims=1)')"
   ]
  },
  {
   "cell_type": "code",
   "execution_count": 66,
   "id": "39a46c04-00b2-467d-b704-967662164747",
   "metadata": {},
   "outputs": [
    {
     "data": {
      "text/plain": [
       "1×60×1 Array{Float64, 3}:\n",
       "[:, :, 1] =\n",
       " 3.0  4.0  6.0  8.0  0.0  2.0  15.0  …  14.0  11.0  3.0  4.0  6.0  5.0  3.0"
      ]
     },
     "execution_count": 66,
     "metadata": {},
     "output_type": "execute_result"
    }
   ],
   "source": [
    "sum(sum(stored_transDC[:,:,1,:,1,32],dims=1),dims=3)"
   ]
  },
  {
   "cell_type": "code",
   "execution_count": 78,
   "id": "44476aa7-4e39-45a9-8922-f8cd03b0710d",
   "metadata": {},
   "outputs": [
    {
     "data": {
      "text/plain": [
       "1×1×1×1×32 Array{Float64, 5}:\n",
       "[:, :, 1, 1, 1] =\n",
       " 2.6029810226126564\n",
       "\n",
       "[:, :, 1, 1, 2] =\n",
       " 0.0\n",
       "\n",
       "[:, :, 1, 1, 3] =\n",
       " 0.0\n",
       "\n",
       "...\n",
       "\n",
       "[:, :, 1, 1, 30] =\n",
       " 0.0\n",
       "\n",
       "[:, :, 1, 1, 31] =\n",
       " 0.0\n",
       "\n",
       "[:, :, 1, 1, 32] =\n",
       " 0.0"
      ]
     },
     "execution_count": 78,
     "metadata": {},
     "output_type": "execute_result"
    }
   ],
   "source": [
    "std(sum(sum(sum(stored_BOtrue,dims=1),dims=2),dims=3),dims=4)"
   ]
  },
  {
   "cell_type": "code",
   "execution_count": 81,
   "id": "c9fe9b9a-ab70-40a8-9a6a-c23b8dbc76a2",
   "metadata": {},
   "outputs": [
    {
     "data": {
      "text/plain": [
       "32×1×1 Array{Float64, 3}:\n",
       "[:, :, 1] =\n",
       " 1401.309766917059\n",
       " 1413.430029743104\n",
       " 1193.6711604054417\n",
       " 1048.3569660012115\n",
       " 1534.3043739221805\n",
       " 1188.5880989558964\n",
       " 1304.9211578341678\n",
       " 1251.5595282099293\n",
       " 1495.9418002702907\n",
       " 1168.1485404917737\n",
       " 1376.66911768654\n",
       " 1203.5036065672625\n",
       " 1373.4341408249882\n",
       "    ⋮\n",
       " 1374.8937658404516\n",
       " 1117.3361075087735\n",
       " 1049.893522297983\n",
       " 1096.9513739153135\n",
       " 1343.6083505217719\n",
       " 1129.4303547020722\n",
       " 1421.7842914551318\n",
       " 1028.5999180578285\n",
       " 1255.6434538774556\n",
       " 1032.1684740271378\n",
       " 1289.4562829791032\n",
       " 1005.8513804692205"
      ]
     },
     "execution_count": 81,
     "metadata": {},
     "output_type": "execute_result"
    }
   ],
   "source": [
    "permutedims(std(sum(stored_TC,dims=1),dims=2),[3,1,2])"
   ]
  },
  {
   "cell_type": "code",
   "execution_count": null,
   "id": "ff0d44b5-7105-42bc-b1f2-773efe2ab9de",
   "metadata": {},
   "outputs": [],
   "source": []
  }
 ],
 "metadata": {
  "kernelspec": {
   "display_name": "Julia 1.6.1",
   "language": "julia",
   "name": "julia-1.6"
  },
  "language_info": {
   "file_extension": ".jl",
   "mimetype": "application/julia",
   "name": "julia",
   "version": "1.6.1"
  }
 },
 "nbformat": 4,
 "nbformat_minor": 5
}
