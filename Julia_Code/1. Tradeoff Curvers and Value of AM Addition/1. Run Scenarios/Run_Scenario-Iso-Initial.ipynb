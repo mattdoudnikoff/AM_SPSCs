{
 "cells": [
  {
   "cell_type": "code",
   "execution_count": 8,
   "id": "atlantic-battery",
   "metadata": {},
   "outputs": [
    {
     "data": {
      "text/plain": [
       "full_run_varied_dem_inputs (generic function with 3 methods)"
      ]
     },
     "execution_count": 8,
     "metadata": {},
     "output_type": "execute_result"
    }
   ],
   "source": [
    "#Packages needed\n",
    "using Optim\n",
    "using Plots\n",
    "using StatsBase\n",
    "using Distributions\n",
    "using Statistics\n",
    "using Random\n",
    "using JuMP, Gurobi, GLPK\n",
    "using TickTock\n",
    "using Distributed\n",
    "using CSV\n",
    "using DataFrames\n",
    "using JLD2\n",
    "using Dates\n",
    "####### This function just checks the OS and helps automate things instead of needed to copy and paste paths\n",
    "function checkOS()\n",
    "    path = pwd()\n",
    "    if path[1] == '/'\n",
    "        OS = \"Mac\"\n",
    "    else\n",
    "        OS = \"Windows\"\n",
    "    end\n",
    "    return OS\n",
    "end\n",
    "OS = checkOS()\n",
    "file_path = pwd();\n",
    "#####Load correct .jl files for functions (accommodates for Mac or Windows)\n",
    "if OS == \"Mac\"\n",
    "    inipath = file_path[1:findlast(\"Julia_Code\",file_path)[end]]*\"/\"\n",
    "    include(inipath * \"1. Tradeoff Curvers and Value of AM Addition/2. Scripts/OptEvalCombined.jl\")\n",
    "else \n",
    "    inipath = file_path[1:findlast(\"Julia_Code\",file_path)[end]] * \"\\\\\"\n",
    "    include(inipath * \"1. Tradeoff Curvers and Value of AM Addition\\\\2. Scripts\\\\OptEvalCombined.jl\")\n",
    "end"
   ]
  },
  {
   "cell_type": "code",
   "execution_count": 11,
   "id": "76559b1d-371c-4fb3-b1dd-06d0ad99e85e",
   "metadata": {},
   "outputs": [
    {
     "data": {
      "text/plain": [
       "\"starter = \\\"136Iso_1_1_AMCapRatio_varyCV2_1xLT_run_\\\"\\n#for vary ADI\\nadi = collect(range(1,5,length=17))\\ncv2 = repeat([2],17)\\ndescription = []\\nfor i = 1:17\\n    push!(description, starter * string(i))\\nend\\n\\n\\n#for vary CV2\\nadi = repeat([1],20)\\ncv2 = collect(range(0.25,5, length=20))\\ndescription = []\\nfor i = 1:20\\n    push!(description, starter * string(i))\\nend\\n\""
      ]
     },
     "execution_count": 11,
     "metadata": {},
     "output_type": "execute_result"
    }
   ],
   "source": [
    "#Starting String to help organize\n",
    "description = [\"136Iso_Lumpy_4LT_10LTIso\";\n",
    "                \"136Iso_Lumpy_4LT_10LTIso\";\n",
    "                \"136Iso_Lumpy_4LT_10LTIso\"]\n",
    "adi = [3; 4; 5]\n",
    "cv2 = [3; 4; 5]\n",
    "\"\"\"\n",
    "starter = \"136Iso_1_1_AMCapRatio_varyCV2_1xLT_run_\"\n",
    "#for vary ADI\n",
    "adi = collect(range(1,5,length=17))\n",
    "cv2 = repeat([2],17)\n",
    "description = []\n",
    "for i = 1:17\n",
    "    push!(description, starter * string(i))\n",
    "end\n",
    "\n",
    "\n",
    "#for vary CV2\n",
    "adi = repeat([1],20)\n",
    "cv2 = collect(range(0.25,5, length=20))\n",
    "description = []\n",
    "for i = 1:20\n",
    "    push!(description, starter * string(i))\n",
    "end\n",
    "\"\"\""
   ]
  },
  {
   "cell_type": "code",
   "execution_count": 12,
   "id": "dbf9a10b-2c47-4502-b4b7-3c2273b09518",
   "metadata": {},
   "outputs": [
    {
     "data": {
      "text/plain": [
       "true"
      ]
     },
     "execution_count": 12,
     "metadata": {},
     "output_type": "execute_result"
    }
   ],
   "source": [
    "###########Test Conditions\n",
    "avg_dem = 36\n",
    "lev = avg_dem .* adi \n",
    "T = 60      #Time Horizon\n",
    "G = 1 #Number of products\n",
    "obs = 180\n",
    "nreal = 100 # number of realizations to generate\n",
    "LT = [4 4 10] \n",
    "N=1000 # Number of replications to generate LTD based on\n",
    "AM_capacity = 36\n",
    "reactive = true #reactive inventory policy to LT"
   ]
  },
  {
   "cell_type": "code",
   "execution_count": 13,
   "id": "656abc8d-0188-451d-96ab-175d0f424796",
   "metadata": {
    "jupyter": {
     "source_hidden": true
    },
    "tags": []
   },
   "outputs": [
    {
     "data": {
      "text/plain": [
       "(3, 6, 1, [1.0; 1.0; 1.0], [1.0 1.0 … 0.0 0.0; 0.0 1.0 … 0.0 0.0; 0.0 0.0 … 1.0 1.0], [25.0 25.0 25.0], [25.0 25.0 … 0.0 0.0; 0.0 25.0 … 0.0 0.0; 0.0 0.0 … 25.0 25.0])"
      ]
     },
     "execution_count": 13,
     "metadata": {},
     "output_type": "execute_result"
    }
   ],
   "source": [
    "############Supply Chain Design\n",
    "\"\"\"\n",
    "#Kyle's paper matrix 1-3-2\n",
    "\n",
    "trans_matrix = [0 25 25 25 0  0;\n",
    "                0 0  0  0  25 0;\n",
    "                0 0  0  0  50 50;\n",
    "                0 0  0  0  0  25;\n",
    "                0 0  0  0  0  0;\n",
    "                0 0  0  0  0  0]\n",
    "TM = [1]\n",
    "DC = [2 3 4]\n",
    "SL = [5 6]\n",
    "\n",
    "\n",
    "#Validation SC 1-1-4\n",
    "trans_matrix = [0 25 0  0  0  0;\n",
    "                0 0  25 25 25 25;\n",
    "                0 0  0  0  0  0;\n",
    "                0 0  0  0  0  0;\n",
    "                0 0  0  0  0  0;\n",
    "                0 0  0  0  0  0]\n",
    "\n",
    "TM = [1]\n",
    "DC = [2]\n",
    "SL = [3 4 5 6]\n",
    "\n",
    "#My network - 1-3-4 iso\n",
    "trans_matrix = [0 25 25 25  0 0  0  0;\n",
    "                0 0  0  0  25 25 0  0;\n",
    "                0 0  0  0  25 25 0  0;\n",
    "                0 0  0  0  0  0  25 25;\n",
    "                0 0  0  0  0  0  0  0;\n",
    "                0 0  0  0  0  0  0  0;\n",
    "                0 0  0  0  0  0  0  0;\n",
    "                0 0  0  0  0  0  0  0]\n",
    "TM = [1]\n",
    "DC = [2 3 4]\n",
    "SL = [5 6 7 8]\n",
    "\n",
    "#My network - 1-3-4 iso - increase in trans cost\n",
    "trans_matrix = [0 25 25 50  0 0  0  0;\n",
    "                0 0  0  0  25 25 0  0;\n",
    "                0 0  0  0  25 25 0  0;\n",
    "                0 0  0  0  0  0  25 25;\n",
    "                0 0  0  0  0  0  0  0;\n",
    "                0 0  0  0  0  0  0  0;\n",
    "                0 0  0  0  0  0  0  0;\n",
    "                0 0  0  0  0  0  0  0]\n",
    "TM = [1]\n",
    "DC = [2 3 4]\n",
    "SL = [5 6 7 8]\n",
    "\"\"\"\n",
    "\n",
    "#Network - 1-3-6 Iso\n",
    "trans_matrix = [0 25 25 25  0  0  0  0  0  0; #will vary the last 25 in this row\n",
    "                0 0  0  0  25 25 25  0  0  0;\n",
    "                0 0  0  0  0  25 25 25  0  0;\n",
    "                0 0  0  0  0  0   0  0 25 25;\n",
    "                0 0  0  0  0  0   0  0  0  0;\n",
    "                0 0  0  0  0  0   0  0  0  0;\n",
    "                0 0  0  0  0  0   0  0  0  0;\n",
    "                0 0  0  0  0  0   0  0  0  0;\n",
    "                0 0  0  0  0  0   0  0  0  0;\n",
    "                0 0  0  0  0  0   0  0  0  0]\n",
    "TM = [1]\n",
    "DC = [2 3 4]\n",
    "SL = [5 6 7 8 9 10]\n",
    "\n",
    "nsup, ncust, nTM, valid_TMrte, Suprte, CtTM, CtS = trans_matrix_math(trans_matrix,TM,DC,SL)"
   ]
  },
  {
   "cell_type": "code",
   "execution_count": 14,
   "id": "31bfe678-037b-4e58-8ec0-3f2eb6c06eb9",
   "metadata": {},
   "outputs": [
    {
     "data": {
      "text/plain": [
       "449"
      ]
     },
     "execution_count": 14,
     "metadata": {},
     "output_type": "execute_result"
    }
   ],
   "source": [
    "Int(0b111000000)+1"
   ]
  },
  {
   "cell_type": "code",
   "execution_count": 15,
   "id": "b888baa2-20b7-4662-8cc4-85deda4f4cf9",
   "metadata": {
    "tags": []
   },
   "outputs": [
    {
     "data": {
      "text/plain": [
       "networks"
      ]
     },
     "execution_count": 15,
     "metadata": {},
     "output_type": "execute_result"
    }
   ],
   "source": [
    "####### This cell is to be run if you do not want to run the whole network (good to do when it is a larger network to reduce time)\n",
    "\n",
    "#networks of interest for 134 network\n",
    "\"\"\"\n",
    "networks = [1; #no AM\n",
    "            128; #Full AM\n",
    "            113; #Centralized\n",
    "            16; #Distributed\n",
    "            17; #Iso DC\n",
    "            4;  #Iso SLs\n",
    "            20; #Iso Network Side\n",
    "            13; #only Connected SLs have AM\n",
    "            97; #Connected DCs have AM\n",
    "            65; #DC1\n",
    "            33; #DC2\n",
    "            17; #DC3\n",
    "            9; #SL1\n",
    "            5; #SL2\n",
    "            3; #SL3\n",
    "            2] #SL4 \n",
    "\n",
    "\n",
    "#networks or interest for 136 network\n",
    "networks = [1; #no AM\n",
    "            512; #Full AM\n",
    "            449; #Centralized\n",
    "            64; #Distributed\n",
    "            65; #Iso DC\n",
    "            4;  #Iso SLs\n",
    "            68; #Iso Network Side\n",
    "            61; #only Connected SLs have AM\n",
    "            385; #Connected DCs have AM\n",
    "            445; #Connected Side\n",
    "            257; #DC1\n",
    "            129; #DC2\n",
    "            65; #DC3\n",
    "            9; #SL1\n",
    "            5; #SL2\n",
    "            3; #SL3\n",
    "            2] #SL4 \n",
    "\"\"\"\n",
    "networks = [1; #no AM\n",
    "            512; #Full AM\n",
    "            449; #Centralized\n",
    "            64; #Distributed\n",
    "            65; #Iso DC\n",
    "            4;  #Iso SLs\n",
    "            68; #Iso Network Side\n",
    "            61; #only Connected SLs have AM\n",
    "            385; #Connected DCs have AM\n",
    "            445] #Connected Side\n"
   ]
  },
  {
   "cell_type": "code",
   "execution_count": 16,
   "id": "3f1881ad-4d9f-42c7-b4f2-0120c60113c0",
   "metadata": {
    "scrolled": true,
    "tags": []
   },
   "outputs": [
    {
     "name": "stdout",
     "output_type": "stream",
     "text": [
      "idx_Croston = Int64[]\n",
      "idx_SBA = [1, 2, 3]\n",
      "Design 1\n",
      "Design 2\n",
      "Design 3\n",
      "Design 4\n",
      "Design 5\n",
      "Design 6\n",
      "Design 7\n",
      "Design 8\n",
      "Design 9\n",
      "Design 10\n",
      "Design 1\n",
      "Design 2\n",
      "Design 3\n",
      "Design 4\n",
      "Design 5\n",
      "Design 6\n",
      "Design 7\n",
      "Design 8\n",
      "Design 9\n",
      "Design 10\n",
      "C:\\Users\\lmdoudni\\Documents\\Julia_Code\\9. Raw Output Data\\2021-11-17_136Iso_Lumpy_4LT_10LTIso_3ADI_3CV2_36AvgDem.jld2\n",
      "idx_Croston = Int64[]\n",
      "idx_SBA = [1, 2, 3]\n",
      "Design 1\n",
      "Design 2\n",
      "Design 3\n",
      "Design 4\n",
      "Design 5\n",
      "Design 6\n",
      "Design 7\n",
      "Design 8\n",
      "Design 9\n",
      "Design 10\n",
      "Design 1\n",
      "Design 2\n",
      "Design 3\n",
      "Design 4\n",
      "Design 5\n",
      "Design 6\n",
      "Design 7\n",
      "Design 8\n",
      "Design 9\n",
      "Design 10\n",
      "C:\\Users\\lmdoudni\\Documents\\Julia_Code\\9. Raw Output Data\\2021-11-17_136Iso_Lumpy_4LT_10LTIso_4ADI_4CV2_36AvgDem.jld2\n",
      "idx_Croston = Int64[]\n",
      "idx_SBA = [1, 2, 3]\n",
      "Design 1\n",
      "Design 2\n",
      "Design 3\n",
      "Design 4\n",
      "Design 5\n",
      "Design 6\n",
      "Design 7\n",
      "Design 8\n",
      "Design 9\n",
      "Design 10\n",
      "Design 1\n",
      "Design 2\n",
      "Design 3\n",
      "Design 4\n",
      "Design 5\n",
      "Design 6\n",
      "Design 7\n",
      "Design 8\n",
      "Design 9\n",
      "Design 10\n",
      "C:\\Users\\lmdoudni\\Documents\\Julia_Code\\9. Raw Output Data\\2021-11-18_136Iso_Lumpy_4LT_10LTIso_5ADI_5CV2_36AvgDem.jld2\n"
     ]
    }
   ],
   "source": [
    "full_run_varied_dem_inputs(nsup, ncust, nTM, valid_TMrte, Suprte, CtTM, CtS, avg_dem, adi, cv2, lev, T, G, obs, nreal, LT, N, AM_capacity, description, networks,reactive)"
   ]
  },
  {
   "cell_type": "code",
   "execution_count": null,
   "id": "dc97f566-1597-4cd2-aa1e-dcef0fe9a034",
   "metadata": {},
   "outputs": [],
   "source": []
  },
  {
   "cell_type": "code",
   "execution_count": null,
   "id": "2022064f-2395-427c-ad59-eca7a68288b2",
   "metadata": {},
   "outputs": [],
   "source": []
  },
  {
   "cell_type": "code",
   "execution_count": null,
   "id": "39577d36-9e61-4f6a-ae50-cf950d93a69a",
   "metadata": {},
   "outputs": [],
   "source": []
  },
  {
   "cell_type": "code",
   "execution_count": null,
   "id": "794bc9e6-f7b3-4787-b5da-25a773b418bc",
   "metadata": {},
   "outputs": [],
   "source": []
  }
 ],
 "metadata": {
  "kernelspec": {
   "display_name": "Julia 1.6.1",
   "language": "julia",
   "name": "julia-1.6"
  },
  "language_info": {
   "file_extension": ".jl",
   "mimetype": "application/julia",
   "name": "julia",
   "version": "1.6.1"
  }
 },
 "nbformat": 4,
 "nbformat_minor": 5
}
