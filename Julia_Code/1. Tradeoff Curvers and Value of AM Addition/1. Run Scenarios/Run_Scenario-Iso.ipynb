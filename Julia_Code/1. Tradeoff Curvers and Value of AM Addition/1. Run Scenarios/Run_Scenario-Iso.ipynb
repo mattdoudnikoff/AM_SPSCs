{
 "cells": [
  {
   "cell_type": "code",
   "execution_count": 190,
   "id": "atlantic-battery",
   "metadata": {},
   "outputs": [
    {
     "data": {
      "text/plain": [
       "full_run_varied_dem_inputs (generic function with 2 methods)"
      ]
     },
     "execution_count": 190,
     "metadata": {},
     "output_type": "execute_result"
    }
   ],
   "source": [
    "#Packages needed\n",
    "using Optim\n",
    "using Plots\n",
    "using StatsBase\n",
    "using Distributions\n",
    "using Statistics\n",
    "using Random\n",
    "using JuMP, Gurobi, GLPK\n",
    "using TickTock\n",
    "using Distributed\n",
    "using CSV\n",
    "using DataFrames\n",
    "using JLD2\n",
    "using Dates\n",
    "####### This function just checks the OS and helps automate things instead of needed to copy and paste paths\n",
    "function checkOS()\n",
    "    path = pwd()\n",
    "    if path[1] == '/'\n",
    "        OS = \"Mac\"\n",
    "    else\n",
    "        OS = \"Windows\"\n",
    "    end\n",
    "    return OS\n",
    "end\n",
    "OS = checkOS()\n",
    "file_path = pwd();\n",
    "#####Load correct .jl files for functions (accommodates for Mac or Windows)\n",
    "if OS == \"Mac\"\n",
    "    inipath = file_path[1:findlast(\"Julia_Code\",file_path)[end]]*\"/\"\n",
    "    include(inipath * \"1. Tradeoff Curvers and Value of AM Addition/2. Scripts/OptEvalCombined.jl\")\n",
    "else \n",
    "    inipath = file_path[1:findlast(\"Julia_Code\",file_path)[end]] * \"\\\\\"\n",
    "    include(inipath * \"1. Tradeoff Curvers and Value of AM Addition\\\\2. Scripts\\\\OptEvalCombined.jl\")\n",
    "end"
   ]
  },
  {
   "cell_type": "code",
   "execution_count": 191,
   "id": "76559b1d-371c-4fb3-b1dd-06d0ad99e85e",
   "metadata": {},
   "outputs": [],
   "source": [
    "#Starting String to help organize\n",
    "starter = \"136Iso_36_18_AMCapRatio_varyCV2_0.5xLT_run_\"\n",
    "\"\"\"\n",
    "#for vary ADI\n",
    "adi = collect(range(1,5,length=17))\n",
    "cv2 = repeat([2],17)\n",
    "description = []\n",
    "for i = 1:17\n",
    "    push!(description, starter * string(i))\n",
    "end\n",
    "\n",
    "\"\"\"\n",
    "#for vary CV2\n",
    "adi = repeat([1],20)\n",
    "cv2 = collect(range(0.25,5, length=20))\n",
    "description = []\n",
    "for i = 1:20\n",
    "    push!(description, starter * string(i))\n",
    "end\n"
   ]
  },
  {
   "cell_type": "code",
   "execution_count": 192,
   "id": "dbf9a10b-2c47-4502-b4b7-3c2273b09518",
   "metadata": {},
   "outputs": [
    {
     "data": {
      "text/plain": [
       "36"
      ]
     },
     "execution_count": 192,
     "metadata": {},
     "output_type": "execute_result"
    }
   ],
   "source": [
    "###########Test Conditions\n",
    "avg_dem = 18\n",
    "lev = avg_dem .* adi\n",
    "T = 60      #Time Horizon\n",
    "G = 1 #Number of products\n",
    "obs = 180\n",
    "nreal = 100 # number of realizations to generate\n",
    "LT = [7 7 4]\n",
    "N=1000 # Number of replications to generate LTD based on\n",
    "AM_capacity = 36"
   ]
  },
  {
   "cell_type": "code",
   "execution_count": 193,
   "id": "656abc8d-0188-451d-96ab-175d0f424796",
   "metadata": {},
   "outputs": [
    {
     "data": {
      "text/plain": [
       "(3, 6, 1, [1.0; 1.0; 1.0], [1.0 1.0 … 0.0 0.0; 0.0 1.0 … 0.0 0.0; 0.0 0.0 … 1.0 1.0], [25.0 25.0 25.0], [25.0 25.0 … 0.0 0.0; 0.0 25.0 … 0.0 0.0; 0.0 0.0 … 25.0 25.0])"
      ]
     },
     "execution_count": 193,
     "metadata": {},
     "output_type": "execute_result"
    }
   ],
   "source": [
    "############Supply Chain Design\n",
    "\"\"\"\n",
    "#Kyle's paper matrix 1-3-2\n",
    "\n",
    "trans_matrix = [0 25 25 25 0  0;\n",
    "                0 0  0  0  25 0;\n",
    "                0 0  0  0  50 50;\n",
    "                0 0  0  0  0  25;\n",
    "                0 0  0  0  0  0;\n",
    "                0 0  0  0  0  0]\n",
    "TM = [1]\n",
    "DC = [2 3 4]\n",
    "SL = [5 6]\n",
    "\n",
    "\n",
    "#Validation SC 1-1-4\n",
    "trans_matrix = [0 25 0  0  0  0;\n",
    "                0 0  25 25 25 25;\n",
    "                0 0  0  0  0  0;\n",
    "                0 0  0  0  0  0;\n",
    "                0 0  0  0  0  0;\n",
    "                0 0  0  0  0  0]\n",
    "\n",
    "TM = [1]\n",
    "DC = [2]\n",
    "SL = [3 4 5 6]\n",
    "\n",
    "#My network - 1-3-4 iso\n",
    "trans_matrix = [0 25 25 25  0 0  0  0;\n",
    "                0 0  0  0  25 25 0  0;\n",
    "                0 0  0  0  25 25 0  0;\n",
    "                0 0  0  0  0  0  25 25;\n",
    "                0 0  0  0  0  0  0  0;\n",
    "                0 0  0  0  0  0  0  0;\n",
    "                0 0  0  0  0  0  0  0;\n",
    "                0 0  0  0  0  0  0  0]\n",
    "TM = [1]\n",
    "DC = [2 3 4]\n",
    "SL = [5 6 7 8]\n",
    "\n",
    "#My network - 1-3-4 iso - increase in trans cost\n",
    "trans_matrix = [0 25 25 50  0 0  0  0;\n",
    "                0 0  0  0  25 25 0  0;\n",
    "                0 0  0  0  25 25 0  0;\n",
    "                0 0  0  0  0  0  25 25;\n",
    "                0 0  0  0  0  0  0  0;\n",
    "                0 0  0  0  0  0  0  0;\n",
    "                0 0  0  0  0  0  0  0;\n",
    "                0 0  0  0  0  0  0  0]\n",
    "TM = [1]\n",
    "DC = [2 3 4]\n",
    "SL = [5 6 7 8]\n",
    "\"\"\"\n",
    "\n",
    "#Network - 1-3-6 Iso\n",
    "trans_matrix = [0 25 25 25  0  0  0  0  0  0; #will vary the last 25 in this row\n",
    "                0 0  0  0  25 25 25  0  0  0;\n",
    "                0 0  0  0  0  25 25 25  0  0;\n",
    "                0 0  0  0  0  0   0  0 25 25;\n",
    "                0 0  0  0  0  0   0  0  0  0;\n",
    "                0 0  0  0  0  0   0  0  0  0;\n",
    "                0 0  0  0  0  0   0  0  0  0;\n",
    "                0 0  0  0  0  0   0  0  0  0;\n",
    "                0 0  0  0  0  0   0  0  0  0;\n",
    "                0 0  0  0  0  0   0  0  0  0]\n",
    "TM = [1]\n",
    "DC = [2 3 4]\n",
    "SL = [5 6 7 8 9 10]\n",
    "\n",
    "nsup, ncust, nTM, valid_TMrte, Suprte, CtTM, CtS = trans_matrix_math(trans_matrix,TM,DC,SL)"
   ]
  },
  {
   "cell_type": "code",
   "execution_count": 194,
   "id": "31bfe678-037b-4e58-8ec0-3f2eb6c06eb9",
   "metadata": {},
   "outputs": [
    {
     "data": {
      "text/plain": [
       "449"
      ]
     },
     "execution_count": 194,
     "metadata": {},
     "output_type": "execute_result"
    }
   ],
   "source": [
    "Int(0b111000000)+1"
   ]
  },
  {
   "cell_type": "code",
   "execution_count": 195,
   "id": "b888baa2-20b7-4662-8cc4-85deda4f4cf9",
   "metadata": {
    "tags": []
   },
   "outputs": [
    {
     "data": {
      "text/plain": [
       "\"networks = [1; #no AM\\n            65; #Iso DC\\n            4; #Iso SLs\\n            68] #Iso network Side\\n\""
      ]
     },
     "execution_count": 195,
     "metadata": {},
     "output_type": "execute_result"
    }
   ],
   "source": [
    "####### This cell is to be run if you do not want to run the whole network (good to do when it is a larger network to reduce time)\n",
    "\n",
    "#networks of interest for 134 network\n",
    "\"\"\"\n",
    "networks = [1; #no AM\n",
    "            128; #Full AM\n",
    "            113; #Centralized\n",
    "            16; #Distributed\n",
    "            17; #Iso DC\n",
    "            4;  #Iso SLs\n",
    "            20; #Iso Network Side\n",
    "            13; #only Connected SLs have AM\n",
    "            97; #Connected DCs have AM\n",
    "            65; #DC1\n",
    "            33; #DC2\n",
    "            17; #DC3\n",
    "            9; #SL1\n",
    "            5; #SL2\n",
    "            3; #SL3\n",
    "            2] #SL4 \n",
    "\"\"\"\n",
    "#networks or interest for 136 network\n",
    "networks = [1; #no AM\n",
    "            512; #Full AM\n",
    "            449; #Centralized\n",
    "            64; #Distributed\n",
    "            65; #Iso DC\n",
    "            4;  #Iso SLs\n",
    "            68; #Iso Network Side\n",
    "            61; #only Connected SLs have AM\n",
    "            385; #Connected DCs have AM\n",
    "            445; #Connected Side\n",
    "            257; #DC1\n",
    "            129; #DC2\n",
    "            65; #DC3\n",
    "            9; #SL1\n",
    "            5; #SL2\n",
    "            3; #SL3\n",
    "            2] #SL4 \n",
    "\"\"\"\n",
    "networks = [1; #no AM\n",
    "            65; #Iso DC\n",
    "            4; #Iso SLs\n",
    "            68] #Iso network Side\n",
    "\"\"\""
   ]
  },
  {
   "cell_type": "code",
   "execution_count": 196,
   "id": "3f1881ad-4d9f-42c7-b4f2-0120c60113c0",
   "metadata": {
    "scrolled": true,
    "tags": []
   },
   "outputs": [
    {
     "name": "stdout",
     "output_type": "stream",
     "text": [
      "idx_Croston = [1, 2, 3]\n",
      "idx_SBA = Int64[]\n",
      "Design 1\n",
      "Design 2\n",
      "Design 3\n",
      "Design 4\n",
      "Design 5\n",
      "Design 6\n",
      "Design 7\n",
      "Design 8\n",
      "Design 9\n",
      "Design 10\n",
      "Design 11\n",
      "Design 12\n",
      "Design 13\n",
      "Design 14\n",
      "Design 15\n",
      "Design 16\n",
      "Design 17\n",
      "Design 1\n",
      "Design 2\n",
      "Design 3\n",
      "Design 4\n",
      "Design 5\n",
      "Design 6\n",
      "Design 7\n",
      "Design 8\n",
      "Design 9\n",
      "Design 10\n",
      "Design 11\n",
      "Design 12\n",
      "Design 13\n",
      "Design 14\n",
      "Design 15\n",
      "Design 16\n",
      "Design 17\n",
      "C:\\Users\\lmdoudni\\Documents\\Julia_Code\\9. Raw Output Data\\2021-10-18_136Iso_36_18_AMCapRatio_varyCV2_0.5xLT_run_1_1ADI_0_25CV2_18AvgDem.jld2\n",
      "idx_Croston = [1, 3]\n",
      "idx_SBA = [2]\n"
     ]
    },
    {
     "ename": "LoadError",
     "evalue": "BoundsError: attempt to access 1-element Vector{Float64} at index [2]",
     "output_type": "error",
     "traceback": [
      "BoundsError: attempt to access 1-element Vector{Float64} at index [2]",
      "",
      "Stacktrace:",
      " [1] setindex!(A::Vector{Float64}, x::Float64, i1::Int64)",
      "   @ Base .\\array.jl:839",
      " [2] forecast_dem(hist_dem::Array{Int64, 3}, G::Int64, T::Int64, ncust::Int64, DCrte::Matrix{Float64})",
      "   @ Main C:\\Users\\lmdoudni\\Documents\\Julia_Code\\1. Tradeoff Curvers and Value of AM Addition\\2. Scripts\\Generate_Forecast.jl:149",
      " [3] full_run_varied_dem_inputs(nsup::Int64, ncust::Int64, nTM::Int64, valid_TMrte::Array{Float64, 3}, Suprte::Matrix{Float64}, CtTM::Matrix{Float64}, CtS::Matrix{Float64}, avg_dem::Int64, adi::Vector{Int64}, cv2::Vector{Float64}, lev::Vector{Int64}, T::Int64, G::Int64, obs::Int64, nreal::Int64, LT::Matrix{Int64}, N::Int64, AM_capacity::Int64, description::Vector{Any}, NetDes::Vector{Int64})",
      "   @ Main C:\\Users\\lmdoudni\\Documents\\Julia_Code\\1. Tradeoff Curvers and Value of AM Addition\\2. Scripts\\OptEvalCombined.jl:139",
      " [4] top-level scope",
      "   @ In[196]:1",
      " [5] eval",
      "   @ .\\boot.jl:360 [inlined]",
      " [6] include_string(mapexpr::typeof(REPL.softscope), mod::Module, code::String, filename::String)",
      "   @ Base .\\loading.jl:1094"
     ]
    }
   ],
   "source": [
    "full_run_varied_dem_inputs(nsup, ncust, nTM, valid_TMrte, Suprte, CtTM, CtS, avg_dem, adi, cv2, lev, T, G, obs, nreal, LT, N, AM_capacity, description, networks)"
   ]
  },
  {
   "cell_type": "code",
   "execution_count": null,
   "id": "92d65410-6070-417c-826c-11881558cadb",
   "metadata": {
    "tags": []
   },
   "outputs": [],
   "source": []
  },
  {
   "cell_type": "code",
   "execution_count": null,
   "id": "d0e8ee56-b194-4fbf-8537-d231731433db",
   "metadata": {},
   "outputs": [],
   "source": []
  }
 ],
 "metadata": {
  "kernelspec": {
   "display_name": "Julia 1.6.1",
   "language": "julia",
   "name": "julia-1.6"
  },
  "language_info": {
   "file_extension": ".jl",
   "mimetype": "application/julia",
   "name": "julia",
   "version": "1.6.1"
  }
 },
 "nbformat": 4,
 "nbformat_minor": 5
}
