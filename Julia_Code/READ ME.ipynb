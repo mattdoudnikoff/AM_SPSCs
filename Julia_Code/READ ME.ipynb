{
 "cells": [
  {
   "cell_type": "markdown",
   "id": "complete-clothing",
   "metadata": {},
   "source": [
    "This file should help make everything run.\n",
    "\n",
    "NOTE: All the stuff you need to run is in the Modified_OptPolicy File. In 1. Tradeoff Curves/2.Scripts\n",
    "\n",
    "Sometimes Gurobi is weird, but make sure it is downloaded and works first by getting it from the Gurobi website and obtaining an academic license. \n",
    "\n",
    "IF YOU PLAN ON SAVING DATA: go to folder 3. Functions/Functions.jl and modify the save_data command working directory use $pwd()$ command to help\n",
    "^^^^^^^ Don't think this is a problem anymore because I have automated it but return later if problem. \n"
   ]
  },
  {
   "cell_type": "code",
   "execution_count": 1,
   "id": "similar-fourth",
   "metadata": {},
   "outputs": [],
   "source": [
    "#Run this if setting up Julia on a new computer\n",
    "#This will download all the packages needed to run the files\n",
    "#Note: takes a few minutes\n",
    "import Pkg\n",
    "Pkg.add(\"Optim\")\n",
    "Pkg.add(\"Plots\")\n",
    "Pkg.add(\"StatsBase\")\n",
    "Pkg.add(\"Distributions\")\n",
    "Pkg.add(\"Statistics\")\n",
    "Pkg.add(\"Random\")\n",
    "Pkg.add(\"JuMP\")\n",
    "Pkg.add(\"Gurobi\")\n",
    "Pkg.add(\"PrettyTables\")\n",
    "Pkg.add(\"Distributed\")\n",
    "Pkg.add(\"TickTock\")\n",
    "Pkg.add(\"GLPK\")\n",
    "Pkg.add(\"CSV\")\n",
    "Pkg.add(\"DataFrames\")\n",
    "Pkg.add(\"JLD2\")\n",
    "Pkg.add(\"Dates\")\n",
    "Pkg.add(\"FileIO\")"
   ]
  },
  {
   "cell_type": "markdown",
   "id": "later-given",
   "metadata": {},
   "source": [
    "Description of Structure of Code (As of November 11, 2021)\n",
    "\n",
    "Everything to run is currently based off of a few main files. Look for the experiment you want to run:\n",
    "\n",
    "1. Mulitiple runs at once among varying ADI and CV2 with similar demand totals \n",
    "     1. 1.Tradeoff Curves/1. Run Scenarios/ANY.ipynb file\n",
    "    \n",
    "Here you can build different networks to test while also varying ADI, CV2, Avg Dem, LT, AM Capacity, Network\n",
    "\n",
    "\n",
    "2. Edit the code and functions above\n",
    "    1.  1.Tradeoff Curves/2. Scripts/Modified_OptPolicy.ipynb\n",
    "\n",
    "This notebook is where the model process is run\n",
    "That notebook first uses generate_forecast.jl file to (based on a set of inputs described earlier, and cost inputs)\n",
    "    \n",
    "        1. Create Historical Demand\n",
    "        2. Forecast future based on historical demand\n",
    "        3. Find Markov Bootstrap of forecast to establish little S policy\n",
    "        4. Create n number of actual demand realizations for the future. \n",
    "    \n",
    "Then, We run the first MILP to find the optimal inventory policy which invovles solving for big S.\n",
    "\n",
    "After all that we can evaluate each time period by time period and make decisions on orders and daily operations eventually getting the correct number of backorders and cost. \n",
    "\n",
    "Then we save in the folder 9. Raw Output Data. "
   ]
  },
  {
   "cell_type": "markdown",
   "id": "c527442e-e4dc-4661-820c-c440cdd44fe8",
   "metadata": {},
   "source": [
    "Best practices for loading data includes using and modifything the following function. As long as the naming convention is consistent and you set it up right, this is faster than changing the varying things by hand. It also depends on what exactly you want to load so you have to think about strucutures but typically when it is the example of average backorders, a single data file will have a single column of length networks you started. Then I hcat (horizontal concatenate) the varying files to get it into a single data frame. \n",
    "\n",
    "\n",
    "    function load_many_files(adi, cv2, folderpath, demlevel, starterstring, LT = \"\")    \n",
    "        adistr = replace(string(adi[1]),\".\" => \"_\")\n",
    "        cv2str = replace(string(cv2[1]),\".\" => \"_\")\n",
    "        path = folderpath * starterstring[1] * LT[1] * \"_\" * adistr * \"ADI_\" * cv2str * \"CV2_\" * string(demlevel) *\"AvgDem.jld2\"\n",
    "        file = FileIO.load(path)\n",
    "        BO = file[\"BOtot\"][:,1,1,1,1]\n",
    "        TC = file[\"TC\"]\n",
    "        little_s = file[\"little_s\"]\n",
    "        for i = 2:length(adi)\n",
    "            adistr = replace(string(adi[i]),\".\" => \"_\")\n",
    "            cv2str = replace(string(cv2[i]),\".\" => \"_\")\n",
    "            path = folderpath * starterstring[i] * LT[i] * \"_\" * adistr * \"ADI_\" * cv2str * \"CV2_\" * string(demlevel) *\"AvgDem.jld2\"\n",
    "            file = FileIO.load(path)\n",
    "            BO = hcat(BO, file[\"BOtot\"][:,1,1,1,1])\n",
    "            TC = hcat(TC,file[\"TC\"][:,1,1])\n",
    "            little_s = hcat(little_s,file[\"little_s\"])\n",
    "\n",
    "        end\n",
    "        return BO, TC, little_s\n",
    "    end"
   ]
  },
  {
   "cell_type": "code",
   "execution_count": null,
   "id": "bb2e04d9-1dd3-4887-a794-9a3a23280a62",
   "metadata": {},
   "outputs": [],
   "source": []
  },
  {
   "cell_type": "markdown",
   "id": "5b141ba5-957a-429a-8502-53851f175de5",
   "metadata": {},
   "source": [
    "This section will detail more in depth pertinent files and what they do. \n",
    "\n"
   ]
  },
  {
   "cell_type": "code",
   "execution_count": null,
   "id": "394a7494-d79c-4404-a2d1-8214444e2a96",
   "metadata": {},
   "outputs": [],
   "source": []
  }
 ],
 "metadata": {
  "kernelspec": {
   "display_name": "Julia 1.6.1",
   "language": "julia",
   "name": "julia-1.6"
  },
  "language_info": {
   "file_extension": ".jl",
   "mimetype": "application/julia",
   "name": "julia",
   "version": "1.6.1"
  }
 },
 "nbformat": 4,
 "nbformat_minor": 5
}
